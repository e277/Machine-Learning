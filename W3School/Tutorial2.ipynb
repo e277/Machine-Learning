{
 "cells": [
  {
   "cell_type": "code",
   "execution_count": 12,
   "metadata": {
    "collapsed": true
   },
   "outputs": [],
   "source": [
    "import pandas as pd"
   ]
  },
  {
   "cell_type": "code",
   "execution_count": 13,
   "outputs": [
    {
     "data": {
      "text/plain": "    Age  Experience  Rank Nationality   Go\n0    36          10     9          UK   NO\n1    42          12     4         USA   NO\n2    23           4     6           N   NO\n3    52           4     4         USA   NO\n4    43          21     8         USA  YES\n5    44          14     5          UK   NO\n6    66           3     7           N  YES\n7    35          14     9          UK  YES\n8    52          13     7           N  YES\n9    35           5     9           N  YES\n10   24           3     5         USA   NO\n11   18           3     7          UK  YES\n12   45           9     9          UK  YES",
      "text/html": "<div>\n<style scoped>\n    .dataframe tbody tr th:only-of-type {\n        vertical-align: middle;\n    }\n\n    .dataframe tbody tr th {\n        vertical-align: top;\n    }\n\n    .dataframe thead th {\n        text-align: right;\n    }\n</style>\n<table border=\"1\" class=\"dataframe\">\n  <thead>\n    <tr style=\"text-align: right;\">\n      <th></th>\n      <th>Age</th>\n      <th>Experience</th>\n      <th>Rank</th>\n      <th>Nationality</th>\n      <th>Go</th>\n    </tr>\n  </thead>\n  <tbody>\n    <tr>\n      <th>0</th>\n      <td>36</td>\n      <td>10</td>\n      <td>9</td>\n      <td>UK</td>\n      <td>NO</td>\n    </tr>\n    <tr>\n      <th>1</th>\n      <td>42</td>\n      <td>12</td>\n      <td>4</td>\n      <td>USA</td>\n      <td>NO</td>\n    </tr>\n    <tr>\n      <th>2</th>\n      <td>23</td>\n      <td>4</td>\n      <td>6</td>\n      <td>N</td>\n      <td>NO</td>\n    </tr>\n    <tr>\n      <th>3</th>\n      <td>52</td>\n      <td>4</td>\n      <td>4</td>\n      <td>USA</td>\n      <td>NO</td>\n    </tr>\n    <tr>\n      <th>4</th>\n      <td>43</td>\n      <td>21</td>\n      <td>8</td>\n      <td>USA</td>\n      <td>YES</td>\n    </tr>\n    <tr>\n      <th>5</th>\n      <td>44</td>\n      <td>14</td>\n      <td>5</td>\n      <td>UK</td>\n      <td>NO</td>\n    </tr>\n    <tr>\n      <th>6</th>\n      <td>66</td>\n      <td>3</td>\n      <td>7</td>\n      <td>N</td>\n      <td>YES</td>\n    </tr>\n    <tr>\n      <th>7</th>\n      <td>35</td>\n      <td>14</td>\n      <td>9</td>\n      <td>UK</td>\n      <td>YES</td>\n    </tr>\n    <tr>\n      <th>8</th>\n      <td>52</td>\n      <td>13</td>\n      <td>7</td>\n      <td>N</td>\n      <td>YES</td>\n    </tr>\n    <tr>\n      <th>9</th>\n      <td>35</td>\n      <td>5</td>\n      <td>9</td>\n      <td>N</td>\n      <td>YES</td>\n    </tr>\n    <tr>\n      <th>10</th>\n      <td>24</td>\n      <td>3</td>\n      <td>5</td>\n      <td>USA</td>\n      <td>NO</td>\n    </tr>\n    <tr>\n      <th>11</th>\n      <td>18</td>\n      <td>3</td>\n      <td>7</td>\n      <td>UK</td>\n      <td>YES</td>\n    </tr>\n    <tr>\n      <th>12</th>\n      <td>45</td>\n      <td>9</td>\n      <td>9</td>\n      <td>UK</td>\n      <td>YES</td>\n    </tr>\n  </tbody>\n</table>\n</div>"
     },
     "execution_count": 13,
     "metadata": {},
     "output_type": "execute_result"
    }
   ],
   "source": [
    "df = pd.read_csv('data2.csv')\n",
    "df"
   ],
   "metadata": {
    "collapsed": false
   }
  },
  {
   "cell_type": "code",
   "execution_count": 14,
   "outputs": [
    {
     "data": {
      "text/plain": "0     36\n1     42\n2     23\n3     52\n4     43\n5     44\n6     66\n7     35\n8     52\n9     35\n10    24\n11    18\n12    45\nName: Age, dtype: int64"
     },
     "execution_count": 14,
     "metadata": {},
     "output_type": "execute_result"
    }
   ],
   "source": [
    "df['Age']"
   ],
   "metadata": {
    "collapsed": false
   }
  },
  {
   "cell_type": "code",
   "execution_count": 15,
   "outputs": [
    {
     "data": {
      "text/plain": "    Age  Rank\n0    36     9\n1    42     4\n2    23     6\n3    52     4\n4    43     8\n5    44     5\n6    66     7\n7    35     9\n8    52     7\n9    35     9\n10   24     5\n11   18     7\n12   45     9",
      "text/html": "<div>\n<style scoped>\n    .dataframe tbody tr th:only-of-type {\n        vertical-align: middle;\n    }\n\n    .dataframe tbody tr th {\n        vertical-align: top;\n    }\n\n    .dataframe thead th {\n        text-align: right;\n    }\n</style>\n<table border=\"1\" class=\"dataframe\">\n  <thead>\n    <tr style=\"text-align: right;\">\n      <th></th>\n      <th>Age</th>\n      <th>Rank</th>\n    </tr>\n  </thead>\n  <tbody>\n    <tr>\n      <th>0</th>\n      <td>36</td>\n      <td>9</td>\n    </tr>\n    <tr>\n      <th>1</th>\n      <td>42</td>\n      <td>4</td>\n    </tr>\n    <tr>\n      <th>2</th>\n      <td>23</td>\n      <td>6</td>\n    </tr>\n    <tr>\n      <th>3</th>\n      <td>52</td>\n      <td>4</td>\n    </tr>\n    <tr>\n      <th>4</th>\n      <td>43</td>\n      <td>8</td>\n    </tr>\n    <tr>\n      <th>5</th>\n      <td>44</td>\n      <td>5</td>\n    </tr>\n    <tr>\n      <th>6</th>\n      <td>66</td>\n      <td>7</td>\n    </tr>\n    <tr>\n      <th>7</th>\n      <td>35</td>\n      <td>9</td>\n    </tr>\n    <tr>\n      <th>8</th>\n      <td>52</td>\n      <td>7</td>\n    </tr>\n    <tr>\n      <th>9</th>\n      <td>35</td>\n      <td>9</td>\n    </tr>\n    <tr>\n      <th>10</th>\n      <td>24</td>\n      <td>5</td>\n    </tr>\n    <tr>\n      <th>11</th>\n      <td>18</td>\n      <td>7</td>\n    </tr>\n    <tr>\n      <th>12</th>\n      <td>45</td>\n      <td>9</td>\n    </tr>\n  </tbody>\n</table>\n</div>"
     },
     "execution_count": 15,
     "metadata": {},
     "output_type": "execute_result"
    }
   ],
   "source": [
    "df[['Age', 'Rank']]"
   ],
   "metadata": {
    "collapsed": false
   }
  },
  {
   "cell_type": "code",
   "execution_count": 16,
   "outputs": [
    {
     "data": {
      "text/plain": "   Age  Experience  Rank Nationality   Go\n4   43          21     8         USA  YES\n5   44          14     5          UK   NO",
      "text/html": "<div>\n<style scoped>\n    .dataframe tbody tr th:only-of-type {\n        vertical-align: middle;\n    }\n\n    .dataframe tbody tr th {\n        vertical-align: top;\n    }\n\n    .dataframe thead th {\n        text-align: right;\n    }\n</style>\n<table border=\"1\" class=\"dataframe\">\n  <thead>\n    <tr style=\"text-align: right;\">\n      <th></th>\n      <th>Age</th>\n      <th>Experience</th>\n      <th>Rank</th>\n      <th>Nationality</th>\n      <th>Go</th>\n    </tr>\n  </thead>\n  <tbody>\n    <tr>\n      <th>4</th>\n      <td>43</td>\n      <td>21</td>\n      <td>8</td>\n      <td>USA</td>\n      <td>YES</td>\n    </tr>\n    <tr>\n      <th>5</th>\n      <td>44</td>\n      <td>14</td>\n      <td>5</td>\n      <td>UK</td>\n      <td>NO</td>\n    </tr>\n  </tbody>\n</table>\n</div>"
     },
     "execution_count": 16,
     "metadata": {},
     "output_type": "execute_result"
    }
   ],
   "source": [
    "df[4:6]"
   ],
   "metadata": {
    "collapsed": false
   }
  },
  {
   "cell_type": "code",
   "execution_count": 17,
   "outputs": [
    {
     "data": {
      "text/plain": "   Experience Nationality   Go\n4          21         USA  YES\n5          14          UK   NO",
      "text/html": "<div>\n<style scoped>\n    .dataframe tbody tr th:only-of-type {\n        vertical-align: middle;\n    }\n\n    .dataframe tbody tr th {\n        vertical-align: top;\n    }\n\n    .dataframe thead th {\n        text-align: right;\n    }\n</style>\n<table border=\"1\" class=\"dataframe\">\n  <thead>\n    <tr style=\"text-align: right;\">\n      <th></th>\n      <th>Experience</th>\n      <th>Nationality</th>\n      <th>Go</th>\n    </tr>\n  </thead>\n  <tbody>\n    <tr>\n      <th>4</th>\n      <td>21</td>\n      <td>USA</td>\n      <td>YES</td>\n    </tr>\n    <tr>\n      <th>5</th>\n      <td>14</td>\n      <td>UK</td>\n      <td>NO</td>\n    </tr>\n  </tbody>\n</table>\n</div>"
     },
     "execution_count": 17,
     "metadata": {},
     "output_type": "execute_result"
    }
   ],
   "source": [
    "df.iloc[4:6, [1,3,4]]"
   ],
   "metadata": {
    "collapsed": false
   }
  },
  {
   "cell_type": "code",
   "execution_count": 18,
   "outputs": [
    {
     "data": {
      "text/plain": "   Rank Nationality   Go\n4     8         USA  YES\n5     5          UK   NO\n6     7           N  YES",
      "text/html": "<div>\n<style scoped>\n    .dataframe tbody tr th:only-of-type {\n        vertical-align: middle;\n    }\n\n    .dataframe tbody tr th {\n        vertical-align: top;\n    }\n\n    .dataframe thead th {\n        text-align: right;\n    }\n</style>\n<table border=\"1\" class=\"dataframe\">\n  <thead>\n    <tr style=\"text-align: right;\">\n      <th></th>\n      <th>Rank</th>\n      <th>Nationality</th>\n      <th>Go</th>\n    </tr>\n  </thead>\n  <tbody>\n    <tr>\n      <th>4</th>\n      <td>8</td>\n      <td>USA</td>\n      <td>YES</td>\n    </tr>\n    <tr>\n      <th>5</th>\n      <td>5</td>\n      <td>UK</td>\n      <td>NO</td>\n    </tr>\n    <tr>\n      <th>6</th>\n      <td>7</td>\n      <td>N</td>\n      <td>YES</td>\n    </tr>\n  </tbody>\n</table>\n</div>"
     },
     "execution_count": 18,
     "metadata": {},
     "output_type": "execute_result"
    }
   ],
   "source": [
    "df.loc[4:6, 'Rank':'Go']"
   ],
   "metadata": {
    "collapsed": false
   }
  },
  {
   "cell_type": "code",
   "execution_count": 19,
   "outputs": [
    {
     "data": {
      "text/plain": "0     False\n1     False\n2     False\n3     False\n4      True\n5     False\n6     False\n7      True\n8      True\n9     False\n10    False\n11    False\n12    False\ndtype: bool"
     },
     "execution_count": 19,
     "metadata": {},
     "output_type": "execute_result"
    }
   ],
   "source": [
    "(df['Experience'] > 12) & (df['Go'] == 'YES')"
   ],
   "metadata": {
    "collapsed": false
   }
  },
  {
   "cell_type": "code",
   "execution_count": 20,
   "outputs": [
    {
     "data": {
      "text/plain": "   Age  Experience  Rank Nationality   Go\n4   43          21     8         USA  YES\n7   35          14     9          UK  YES\n8   52          13     7           N  YES",
      "text/html": "<div>\n<style scoped>\n    .dataframe tbody tr th:only-of-type {\n        vertical-align: middle;\n    }\n\n    .dataframe tbody tr th {\n        vertical-align: top;\n    }\n\n    .dataframe thead th {\n        text-align: right;\n    }\n</style>\n<table border=\"1\" class=\"dataframe\">\n  <thead>\n    <tr style=\"text-align: right;\">\n      <th></th>\n      <th>Age</th>\n      <th>Experience</th>\n      <th>Rank</th>\n      <th>Nationality</th>\n      <th>Go</th>\n    </tr>\n  </thead>\n  <tbody>\n    <tr>\n      <th>4</th>\n      <td>43</td>\n      <td>21</td>\n      <td>8</td>\n      <td>USA</td>\n      <td>YES</td>\n    </tr>\n    <tr>\n      <th>7</th>\n      <td>35</td>\n      <td>14</td>\n      <td>9</td>\n      <td>UK</td>\n      <td>YES</td>\n    </tr>\n    <tr>\n      <th>8</th>\n      <td>52</td>\n      <td>13</td>\n      <td>7</td>\n      <td>N</td>\n      <td>YES</td>\n    </tr>\n  </tbody>\n</table>\n</div>"
     },
     "execution_count": 20,
     "metadata": {},
     "output_type": "execute_result"
    }
   ],
   "source": [
    "df[(df['Experience'] > 12) & (df['Go'] == 'YES')]"
   ],
   "metadata": {
    "collapsed": false
   }
  },
  {
   "cell_type": "code",
   "execution_count": 21,
   "outputs": [
    {
     "data": {
      "text/plain": "0     False\n1     False\n2      True\n3     False\n4     False\n5     False\n6      True\n7     False\n8      True\n9      True\n10    False\n11    False\n12    False\nName: Nationality, dtype: bool"
     },
     "execution_count": 21,
     "metadata": {},
     "output_type": "execute_result"
    }
   ],
   "source": [
    "(df['Nationality'] == 'N')"
   ],
   "metadata": {
    "collapsed": false
   }
  },
  {
   "cell_type": "code",
   "execution_count": 22,
   "outputs": [
    {
     "data": {
      "text/plain": "   Age  Experience  Rank Nationality   Go\n2   23           4     6           N   NO\n6   66           3     7           N  YES\n8   52          13     7           N  YES\n9   35           5     9           N  YES",
      "text/html": "<div>\n<style scoped>\n    .dataframe tbody tr th:only-of-type {\n        vertical-align: middle;\n    }\n\n    .dataframe tbody tr th {\n        vertical-align: top;\n    }\n\n    .dataframe thead th {\n        text-align: right;\n    }\n</style>\n<table border=\"1\" class=\"dataframe\">\n  <thead>\n    <tr style=\"text-align: right;\">\n      <th></th>\n      <th>Age</th>\n      <th>Experience</th>\n      <th>Rank</th>\n      <th>Nationality</th>\n      <th>Go</th>\n    </tr>\n  </thead>\n  <tbody>\n    <tr>\n      <th>2</th>\n      <td>23</td>\n      <td>4</td>\n      <td>6</td>\n      <td>N</td>\n      <td>NO</td>\n    </tr>\n    <tr>\n      <th>6</th>\n      <td>66</td>\n      <td>3</td>\n      <td>7</td>\n      <td>N</td>\n      <td>YES</td>\n    </tr>\n    <tr>\n      <th>8</th>\n      <td>52</td>\n      <td>13</td>\n      <td>7</td>\n      <td>N</td>\n      <td>YES</td>\n    </tr>\n    <tr>\n      <th>9</th>\n      <td>35</td>\n      <td>5</td>\n      <td>9</td>\n      <td>N</td>\n      <td>YES</td>\n    </tr>\n  </tbody>\n</table>\n</div>"
     },
     "execution_count": 22,
     "metadata": {},
     "output_type": "execute_result"
    }
   ],
   "source": [
    "df[(df['Nationality'] == 'N')]"
   ],
   "metadata": {
    "collapsed": false
   }
  },
  {
   "cell_type": "code",
   "execution_count": 23,
   "outputs": [
    {
     "data": {
      "text/plain": "   Age  Experience  Rank Nationality   Go\n2   23           4     6           N   NO\n6   66           3     7           N  YES\n8   52          13     7           N  YES\n9   35           5     9           N  YES",
      "text/html": "<div>\n<style scoped>\n    .dataframe tbody tr th:only-of-type {\n        vertical-align: middle;\n    }\n\n    .dataframe tbody tr th {\n        vertical-align: top;\n    }\n\n    .dataframe thead th {\n        text-align: right;\n    }\n</style>\n<table border=\"1\" class=\"dataframe\">\n  <thead>\n    <tr style=\"text-align: right;\">\n      <th></th>\n      <th>Age</th>\n      <th>Experience</th>\n      <th>Rank</th>\n      <th>Nationality</th>\n      <th>Go</th>\n    </tr>\n  </thead>\n  <tbody>\n    <tr>\n      <th>2</th>\n      <td>23</td>\n      <td>4</td>\n      <td>6</td>\n      <td>N</td>\n      <td>NO</td>\n    </tr>\n    <tr>\n      <th>6</th>\n      <td>66</td>\n      <td>3</td>\n      <td>7</td>\n      <td>N</td>\n      <td>YES</td>\n    </tr>\n    <tr>\n      <th>8</th>\n      <td>52</td>\n      <td>13</td>\n      <td>7</td>\n      <td>N</td>\n      <td>YES</td>\n    </tr>\n    <tr>\n      <th>9</th>\n      <td>35</td>\n      <td>5</td>\n      <td>9</td>\n      <td>N</td>\n      <td>YES</td>\n    </tr>\n  </tbody>\n</table>\n</div>"
     },
     "execution_count": 23,
     "metadata": {},
     "output_type": "execute_result"
    }
   ],
   "source": [
    "df.query(\"Nationality == 'N'\")"
   ],
   "metadata": {
    "collapsed": false
   }
  },
  {
   "cell_type": "code",
   "execution_count": null,
   "outputs": [],
   "source": [],
   "metadata": {
    "collapsed": false
   }
  }
 ],
 "metadata": {
  "kernelspec": {
   "display_name": "Python 3",
   "language": "python",
   "name": "python3"
  },
  "language_info": {
   "codemirror_mode": {
    "name": "ipython",
    "version": 2
   },
   "file_extension": ".py",
   "mimetype": "text/x-python",
   "name": "python",
   "nbconvert_exporter": "python",
   "pygments_lexer": "ipython2",
   "version": "2.7.6"
  }
 },
 "nbformat": 4,
 "nbformat_minor": 0
}
