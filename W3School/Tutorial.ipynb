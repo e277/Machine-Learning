{
 "cells": [
  {
   "cell_type": "code",
   "execution_count": 17,
   "metadata": {
    "collapsed": true
   },
   "outputs": [],
   "source": [
    "import pandas as pd"
   ]
  },
  {
   "cell_type": "code",
   "execution_count": 18,
   "outputs": [
    {
     "data": {
      "text/plain": "    Duration          Date  Pulse  Maxpulse  Calories\n0         60  '2020/12/01'    110       130     409.1\n1         60  '2020/12/02'    117       145     479.0\n2         60  '2020/12/03'    103       135     340.0\n3         45  '2020/12/04'    109       175     282.4\n4         45  '2020/12/05'    117       148     406.0\n5         60  '2020/12/06'    102       127     300.0\n6         60  '2020/12/07'    110       136     374.0\n7         50  '2020/12/08'    104       134     253.3\n8         30  '2020/12/09'    109       133     195.1\n9         60  '2020/12/10'     98       124     269.0\n10        60  '2020/12/11'    103       147     329.3\n11        60  '2020/12/12'    100       120     250.7\n12        60  '2020/12/12'    100       120     250.7\n13        60  '2020/12/13'    106       128     345.3\n14        60  '2020/12/14'    104       132     379.3\n15        60  '2020/12/15'     98       123     275.0\n16        60  '2020/12/16'     98       120     215.2\n17        60  '2020/12/17'    100       120     300.0\n18        45  '2020/12/18'     90       112       NaN\n19        60  '2020/12/19'    103       123     323.0\n20        45  '2020/12/20'     97       125     243.0\n21        60  '2020/12/21'    108       131     364.2\n22        45           NaN    100       119     282.0\n23        60  '2020/12/23'    130       101     300.0\n24        45  '2020/12/24'    105       132     246.0\n25        60  '2020/12/25'    102       126     334.5\n26        60    2020/12/26    100       120     250.0\n27        60  '2020/12/27'     92       118     241.0\n28        60  '2020/12/28'    103       132       NaN\n29        60  '2020/12/29'    100       132     280.0\n30        60  '2020/12/30'    102       129     380.3\n31        60  '2020/12/31'     92       115     243.0",
      "text/html": "<div>\n<style scoped>\n    .dataframe tbody tr th:only-of-type {\n        vertical-align: middle;\n    }\n\n    .dataframe tbody tr th {\n        vertical-align: top;\n    }\n\n    .dataframe thead th {\n        text-align: right;\n    }\n</style>\n<table border=\"1\" class=\"dataframe\">\n  <thead>\n    <tr style=\"text-align: right;\">\n      <th></th>\n      <th>Duration</th>\n      <th>Date</th>\n      <th>Pulse</th>\n      <th>Maxpulse</th>\n      <th>Calories</th>\n    </tr>\n  </thead>\n  <tbody>\n    <tr>\n      <th>0</th>\n      <td>60</td>\n      <td>'2020/12/01'</td>\n      <td>110</td>\n      <td>130</td>\n      <td>409.1</td>\n    </tr>\n    <tr>\n      <th>1</th>\n      <td>60</td>\n      <td>'2020/12/02'</td>\n      <td>117</td>\n      <td>145</td>\n      <td>479.0</td>\n    </tr>\n    <tr>\n      <th>2</th>\n      <td>60</td>\n      <td>'2020/12/03'</td>\n      <td>103</td>\n      <td>135</td>\n      <td>340.0</td>\n    </tr>\n    <tr>\n      <th>3</th>\n      <td>45</td>\n      <td>'2020/12/04'</td>\n      <td>109</td>\n      <td>175</td>\n      <td>282.4</td>\n    </tr>\n    <tr>\n      <th>4</th>\n      <td>45</td>\n      <td>'2020/12/05'</td>\n      <td>117</td>\n      <td>148</td>\n      <td>406.0</td>\n    </tr>\n    <tr>\n      <th>5</th>\n      <td>60</td>\n      <td>'2020/12/06'</td>\n      <td>102</td>\n      <td>127</td>\n      <td>300.0</td>\n    </tr>\n    <tr>\n      <th>6</th>\n      <td>60</td>\n      <td>'2020/12/07'</td>\n      <td>110</td>\n      <td>136</td>\n      <td>374.0</td>\n    </tr>\n    <tr>\n      <th>7</th>\n      <td>50</td>\n      <td>'2020/12/08'</td>\n      <td>104</td>\n      <td>134</td>\n      <td>253.3</td>\n    </tr>\n    <tr>\n      <th>8</th>\n      <td>30</td>\n      <td>'2020/12/09'</td>\n      <td>109</td>\n      <td>133</td>\n      <td>195.1</td>\n    </tr>\n    <tr>\n      <th>9</th>\n      <td>60</td>\n      <td>'2020/12/10'</td>\n      <td>98</td>\n      <td>124</td>\n      <td>269.0</td>\n    </tr>\n    <tr>\n      <th>10</th>\n      <td>60</td>\n      <td>'2020/12/11'</td>\n      <td>103</td>\n      <td>147</td>\n      <td>329.3</td>\n    </tr>\n    <tr>\n      <th>11</th>\n      <td>60</td>\n      <td>'2020/12/12'</td>\n      <td>100</td>\n      <td>120</td>\n      <td>250.7</td>\n    </tr>\n    <tr>\n      <th>12</th>\n      <td>60</td>\n      <td>'2020/12/12'</td>\n      <td>100</td>\n      <td>120</td>\n      <td>250.7</td>\n    </tr>\n    <tr>\n      <th>13</th>\n      <td>60</td>\n      <td>'2020/12/13'</td>\n      <td>106</td>\n      <td>128</td>\n      <td>345.3</td>\n    </tr>\n    <tr>\n      <th>14</th>\n      <td>60</td>\n      <td>'2020/12/14'</td>\n      <td>104</td>\n      <td>132</td>\n      <td>379.3</td>\n    </tr>\n    <tr>\n      <th>15</th>\n      <td>60</td>\n      <td>'2020/12/15'</td>\n      <td>98</td>\n      <td>123</td>\n      <td>275.0</td>\n    </tr>\n    <tr>\n      <th>16</th>\n      <td>60</td>\n      <td>'2020/12/16'</td>\n      <td>98</td>\n      <td>120</td>\n      <td>215.2</td>\n    </tr>\n    <tr>\n      <th>17</th>\n      <td>60</td>\n      <td>'2020/12/17'</td>\n      <td>100</td>\n      <td>120</td>\n      <td>300.0</td>\n    </tr>\n    <tr>\n      <th>18</th>\n      <td>45</td>\n      <td>'2020/12/18'</td>\n      <td>90</td>\n      <td>112</td>\n      <td>NaN</td>\n    </tr>\n    <tr>\n      <th>19</th>\n      <td>60</td>\n      <td>'2020/12/19'</td>\n      <td>103</td>\n      <td>123</td>\n      <td>323.0</td>\n    </tr>\n    <tr>\n      <th>20</th>\n      <td>45</td>\n      <td>'2020/12/20'</td>\n      <td>97</td>\n      <td>125</td>\n      <td>243.0</td>\n    </tr>\n    <tr>\n      <th>21</th>\n      <td>60</td>\n      <td>'2020/12/21'</td>\n      <td>108</td>\n      <td>131</td>\n      <td>364.2</td>\n    </tr>\n    <tr>\n      <th>22</th>\n      <td>45</td>\n      <td>NaN</td>\n      <td>100</td>\n      <td>119</td>\n      <td>282.0</td>\n    </tr>\n    <tr>\n      <th>23</th>\n      <td>60</td>\n      <td>'2020/12/23'</td>\n      <td>130</td>\n      <td>101</td>\n      <td>300.0</td>\n    </tr>\n    <tr>\n      <th>24</th>\n      <td>45</td>\n      <td>'2020/12/24'</td>\n      <td>105</td>\n      <td>132</td>\n      <td>246.0</td>\n    </tr>\n    <tr>\n      <th>25</th>\n      <td>60</td>\n      <td>'2020/12/25'</td>\n      <td>102</td>\n      <td>126</td>\n      <td>334.5</td>\n    </tr>\n    <tr>\n      <th>26</th>\n      <td>60</td>\n      <td>2020/12/26</td>\n      <td>100</td>\n      <td>120</td>\n      <td>250.0</td>\n    </tr>\n    <tr>\n      <th>27</th>\n      <td>60</td>\n      <td>'2020/12/27'</td>\n      <td>92</td>\n      <td>118</td>\n      <td>241.0</td>\n    </tr>\n    <tr>\n      <th>28</th>\n      <td>60</td>\n      <td>'2020/12/28'</td>\n      <td>103</td>\n      <td>132</td>\n      <td>NaN</td>\n    </tr>\n    <tr>\n      <th>29</th>\n      <td>60</td>\n      <td>'2020/12/29'</td>\n      <td>100</td>\n      <td>132</td>\n      <td>280.0</td>\n    </tr>\n    <tr>\n      <th>30</th>\n      <td>60</td>\n      <td>'2020/12/30'</td>\n      <td>102</td>\n      <td>129</td>\n      <td>380.3</td>\n    </tr>\n    <tr>\n      <th>31</th>\n      <td>60</td>\n      <td>'2020/12/31'</td>\n      <td>92</td>\n      <td>115</td>\n      <td>243.0</td>\n    </tr>\n  </tbody>\n</table>\n</div>"
     },
     "execution_count": 18,
     "metadata": {},
     "output_type": "execute_result"
    }
   ],
   "source": [
    "df = pd.read_csv('data.csv')\n",
    "df"
   ],
   "metadata": {
    "collapsed": false
   }
  },
  {
   "cell_type": "code",
   "execution_count": 19,
   "outputs": [
    {
     "name": "stdout",
     "output_type": "stream",
     "text": [
      "<class 'pandas.core.frame.DataFrame'>\n",
      "RangeIndex: 32 entries, 0 to 31\n",
      "Data columns (total 5 columns):\n",
      " #   Column    Non-Null Count  Dtype  \n",
      "---  ------    --------------  -----  \n",
      " 0   Duration  32 non-null     int64  \n",
      " 1   Date      31 non-null     object \n",
      " 2   Pulse     32 non-null     int64  \n",
      " 3   Maxpulse  32 non-null     int64  \n",
      " 4   Calories  30 non-null     float64\n",
      "dtypes: float64(1), int64(3), object(1)\n",
      "memory usage: 1.4+ KB\n"
     ]
    }
   ],
   "source": [
    "df.info()\n"
   ],
   "metadata": {
    "collapsed": false
   }
  },
  {
   "cell_type": "code",
   "execution_count": 20,
   "outputs": [
    {
     "data": {
      "text/plain": "       Duration       Pulse    Maxpulse    Calories\ncount  32.00000   32.000000   32.000000   30.000000\nmean   55.93750  103.500000  128.500000  304.680000\nstd     7.66617    7.832933   12.998759   66.003779\nmin    30.00000   90.000000  101.000000  195.100000\n25%    57.50000  100.000000  120.000000  250.700000\n50%    60.00000  102.500000  127.500000  291.200000\n75%    60.00000  106.500000  132.250000  343.975000\nmax    60.00000  130.000000  175.000000  479.000000",
      "text/html": "<div>\n<style scoped>\n    .dataframe tbody tr th:only-of-type {\n        vertical-align: middle;\n    }\n\n    .dataframe tbody tr th {\n        vertical-align: top;\n    }\n\n    .dataframe thead th {\n        text-align: right;\n    }\n</style>\n<table border=\"1\" class=\"dataframe\">\n  <thead>\n    <tr style=\"text-align: right;\">\n      <th></th>\n      <th>Duration</th>\n      <th>Pulse</th>\n      <th>Maxpulse</th>\n      <th>Calories</th>\n    </tr>\n  </thead>\n  <tbody>\n    <tr>\n      <th>count</th>\n      <td>32.00000</td>\n      <td>32.000000</td>\n      <td>32.000000</td>\n      <td>30.000000</td>\n    </tr>\n    <tr>\n      <th>mean</th>\n      <td>55.93750</td>\n      <td>103.500000</td>\n      <td>128.500000</td>\n      <td>304.680000</td>\n    </tr>\n    <tr>\n      <th>std</th>\n      <td>7.66617</td>\n      <td>7.832933</td>\n      <td>12.998759</td>\n      <td>66.003779</td>\n    </tr>\n    <tr>\n      <th>min</th>\n      <td>30.00000</td>\n      <td>90.000000</td>\n      <td>101.000000</td>\n      <td>195.100000</td>\n    </tr>\n    <tr>\n      <th>25%</th>\n      <td>57.50000</td>\n      <td>100.000000</td>\n      <td>120.000000</td>\n      <td>250.700000</td>\n    </tr>\n    <tr>\n      <th>50%</th>\n      <td>60.00000</td>\n      <td>102.500000</td>\n      <td>127.500000</td>\n      <td>291.200000</td>\n    </tr>\n    <tr>\n      <th>75%</th>\n      <td>60.00000</td>\n      <td>106.500000</td>\n      <td>132.250000</td>\n      <td>343.975000</td>\n    </tr>\n    <tr>\n      <th>max</th>\n      <td>60.00000</td>\n      <td>130.000000</td>\n      <td>175.000000</td>\n      <td>479.000000</td>\n    </tr>\n  </tbody>\n</table>\n</div>"
     },
     "execution_count": 20,
     "metadata": {},
     "output_type": "execute_result"
    }
   ],
   "source": [
    "df.describe()"
   ],
   "metadata": {
    "collapsed": false
   }
  },
  {
   "cell_type": "markdown",
   "source": [
    "CLEANING EMPTY CELLS"
   ],
   "metadata": {
    "collapsed": false
   }
  },
  {
   "cell_type": "code",
   "execution_count": 21,
   "outputs": [
    {
     "data": {
      "text/plain": "Duration    0\nDate        1\nPulse       0\nMaxpulse    0\nCalories    2\ndtype: int64"
     },
     "execution_count": 21,
     "metadata": {},
     "output_type": "execute_result"
    }
   ],
   "source": [
    "# isnull is an alias of isna, isna recommended\n",
    "df.isna().sum()"
   ],
   "metadata": {
    "collapsed": false
   }
  },
  {
   "cell_type": "code",
   "execution_count": 6,
   "outputs": [],
   "source": [
    "# Mean\n",
    "_mean = df['Calories'].mean()\n",
    "df['Calories'].fillna(_mean, inplace=True)"
   ],
   "metadata": {
    "collapsed": false
   }
  },
  {
   "cell_type": "markdown",
   "source": [
    "CLEANING DATA OF WRONG FORMAT"
   ],
   "metadata": {
    "collapsed": false
   }
  },
  {
   "cell_type": "code",
   "execution_count": 7,
   "outputs": [
    {
     "data": {
      "text/plain": "    Duration       Date  Pulse  Maxpulse  Calories\n0         60 2020-12-01    110       130    409.10\n1         60 2020-12-02    117       145    479.00\n2         60 2020-12-03    103       135    340.00\n3         45 2020-12-04    109       175    282.40\n4         45 2020-12-05    117       148    406.00\n5         60 2020-12-06    102       127    300.00\n6         60 2020-12-07    110       136    374.00\n7         50 2020-12-08    104       134    253.30\n8         30 2020-12-09    109       133    195.10\n9         60 2020-12-10     98       124    269.00\n10        60 2020-12-11    103       147    329.30\n11        60 2020-12-12    100       120    250.70\n12        60 2020-12-12    100       120    250.70\n13        60 2020-12-13    106       128    345.30\n14        60 2020-12-14    104       132    379.30\n15        60 2020-12-15     98       123    275.00\n16        60 2020-12-16     98       120    215.20\n17        60 2020-12-17    100       120    300.00\n18        45 2020-12-18     90       112    304.68\n19        60 2020-12-19    103       123    323.00\n20        45 2020-12-20     97       125    243.00\n21        60 2020-12-21    108       131    364.20\n22        45        NaT    100       119    282.00\n23        60 2020-12-23    130       101    300.00\n24        45 2020-12-24    105       132    246.00\n25        60 2020-12-25    102       126    334.50\n26        60 2020-12-26    100       120    250.00\n27        60 2020-12-27     92       118    241.00\n28        60 2020-12-28    103       132    304.68\n29        60 2020-12-29    100       132    280.00\n30        60 2020-12-30    102       129    380.30\n31        60 2020-12-31     92       115    243.00",
      "text/html": "<div>\n<style scoped>\n    .dataframe tbody tr th:only-of-type {\n        vertical-align: middle;\n    }\n\n    .dataframe tbody tr th {\n        vertical-align: top;\n    }\n\n    .dataframe thead th {\n        text-align: right;\n    }\n</style>\n<table border=\"1\" class=\"dataframe\">\n  <thead>\n    <tr style=\"text-align: right;\">\n      <th></th>\n      <th>Duration</th>\n      <th>Date</th>\n      <th>Pulse</th>\n      <th>Maxpulse</th>\n      <th>Calories</th>\n    </tr>\n  </thead>\n  <tbody>\n    <tr>\n      <th>0</th>\n      <td>60</td>\n      <td>2020-12-01</td>\n      <td>110</td>\n      <td>130</td>\n      <td>409.10</td>\n    </tr>\n    <tr>\n      <th>1</th>\n      <td>60</td>\n      <td>2020-12-02</td>\n      <td>117</td>\n      <td>145</td>\n      <td>479.00</td>\n    </tr>\n    <tr>\n      <th>2</th>\n      <td>60</td>\n      <td>2020-12-03</td>\n      <td>103</td>\n      <td>135</td>\n      <td>340.00</td>\n    </tr>\n    <tr>\n      <th>3</th>\n      <td>45</td>\n      <td>2020-12-04</td>\n      <td>109</td>\n      <td>175</td>\n      <td>282.40</td>\n    </tr>\n    <tr>\n      <th>4</th>\n      <td>45</td>\n      <td>2020-12-05</td>\n      <td>117</td>\n      <td>148</td>\n      <td>406.00</td>\n    </tr>\n    <tr>\n      <th>5</th>\n      <td>60</td>\n      <td>2020-12-06</td>\n      <td>102</td>\n      <td>127</td>\n      <td>300.00</td>\n    </tr>\n    <tr>\n      <th>6</th>\n      <td>60</td>\n      <td>2020-12-07</td>\n      <td>110</td>\n      <td>136</td>\n      <td>374.00</td>\n    </tr>\n    <tr>\n      <th>7</th>\n      <td>50</td>\n      <td>2020-12-08</td>\n      <td>104</td>\n      <td>134</td>\n      <td>253.30</td>\n    </tr>\n    <tr>\n      <th>8</th>\n      <td>30</td>\n      <td>2020-12-09</td>\n      <td>109</td>\n      <td>133</td>\n      <td>195.10</td>\n    </tr>\n    <tr>\n      <th>9</th>\n      <td>60</td>\n      <td>2020-12-10</td>\n      <td>98</td>\n      <td>124</td>\n      <td>269.00</td>\n    </tr>\n    <tr>\n      <th>10</th>\n      <td>60</td>\n      <td>2020-12-11</td>\n      <td>103</td>\n      <td>147</td>\n      <td>329.30</td>\n    </tr>\n    <tr>\n      <th>11</th>\n      <td>60</td>\n      <td>2020-12-12</td>\n      <td>100</td>\n      <td>120</td>\n      <td>250.70</td>\n    </tr>\n    <tr>\n      <th>12</th>\n      <td>60</td>\n      <td>2020-12-12</td>\n      <td>100</td>\n      <td>120</td>\n      <td>250.70</td>\n    </tr>\n    <tr>\n      <th>13</th>\n      <td>60</td>\n      <td>2020-12-13</td>\n      <td>106</td>\n      <td>128</td>\n      <td>345.30</td>\n    </tr>\n    <tr>\n      <th>14</th>\n      <td>60</td>\n      <td>2020-12-14</td>\n      <td>104</td>\n      <td>132</td>\n      <td>379.30</td>\n    </tr>\n    <tr>\n      <th>15</th>\n      <td>60</td>\n      <td>2020-12-15</td>\n      <td>98</td>\n      <td>123</td>\n      <td>275.00</td>\n    </tr>\n    <tr>\n      <th>16</th>\n      <td>60</td>\n      <td>2020-12-16</td>\n      <td>98</td>\n      <td>120</td>\n      <td>215.20</td>\n    </tr>\n    <tr>\n      <th>17</th>\n      <td>60</td>\n      <td>2020-12-17</td>\n      <td>100</td>\n      <td>120</td>\n      <td>300.00</td>\n    </tr>\n    <tr>\n      <th>18</th>\n      <td>45</td>\n      <td>2020-12-18</td>\n      <td>90</td>\n      <td>112</td>\n      <td>304.68</td>\n    </tr>\n    <tr>\n      <th>19</th>\n      <td>60</td>\n      <td>2020-12-19</td>\n      <td>103</td>\n      <td>123</td>\n      <td>323.00</td>\n    </tr>\n    <tr>\n      <th>20</th>\n      <td>45</td>\n      <td>2020-12-20</td>\n      <td>97</td>\n      <td>125</td>\n      <td>243.00</td>\n    </tr>\n    <tr>\n      <th>21</th>\n      <td>60</td>\n      <td>2020-12-21</td>\n      <td>108</td>\n      <td>131</td>\n      <td>364.20</td>\n    </tr>\n    <tr>\n      <th>22</th>\n      <td>45</td>\n      <td>NaT</td>\n      <td>100</td>\n      <td>119</td>\n      <td>282.00</td>\n    </tr>\n    <tr>\n      <th>23</th>\n      <td>60</td>\n      <td>2020-12-23</td>\n      <td>130</td>\n      <td>101</td>\n      <td>300.00</td>\n    </tr>\n    <tr>\n      <th>24</th>\n      <td>45</td>\n      <td>2020-12-24</td>\n      <td>105</td>\n      <td>132</td>\n      <td>246.00</td>\n    </tr>\n    <tr>\n      <th>25</th>\n      <td>60</td>\n      <td>2020-12-25</td>\n      <td>102</td>\n      <td>126</td>\n      <td>334.50</td>\n    </tr>\n    <tr>\n      <th>26</th>\n      <td>60</td>\n      <td>2020-12-26</td>\n      <td>100</td>\n      <td>120</td>\n      <td>250.00</td>\n    </tr>\n    <tr>\n      <th>27</th>\n      <td>60</td>\n      <td>2020-12-27</td>\n      <td>92</td>\n      <td>118</td>\n      <td>241.00</td>\n    </tr>\n    <tr>\n      <th>28</th>\n      <td>60</td>\n      <td>2020-12-28</td>\n      <td>103</td>\n      <td>132</td>\n      <td>304.68</td>\n    </tr>\n    <tr>\n      <th>29</th>\n      <td>60</td>\n      <td>2020-12-29</td>\n      <td>100</td>\n      <td>132</td>\n      <td>280.00</td>\n    </tr>\n    <tr>\n      <th>30</th>\n      <td>60</td>\n      <td>2020-12-30</td>\n      <td>102</td>\n      <td>129</td>\n      <td>380.30</td>\n    </tr>\n    <tr>\n      <th>31</th>\n      <td>60</td>\n      <td>2020-12-31</td>\n      <td>92</td>\n      <td>115</td>\n      <td>243.00</td>\n    </tr>\n  </tbody>\n</table>\n</div>"
     },
     "execution_count": 7,
     "metadata": {},
     "output_type": "execute_result"
    }
   ],
   "source": [
    "# Convert all cells to in 'Date' column to dates\n",
    "df['Date'] = pd.to_datetime(df['Date'])\n",
    "df"
   ],
   "metadata": {
    "collapsed": false
   }
  },
  {
   "cell_type": "code",
   "execution_count": 8,
   "outputs": [
    {
     "name": "stdout",
     "output_type": "stream",
     "text": [
      "<class 'pandas.core.frame.DataFrame'>\n",
      "RangeIndex: 32 entries, 0 to 31\n",
      "Data columns (total 5 columns):\n",
      " #   Column    Non-Null Count  Dtype         \n",
      "---  ------    --------------  -----         \n",
      " 0   Duration  32 non-null     int64         \n",
      " 1   Date      31 non-null     datetime64[ns]\n",
      " 2   Pulse     32 non-null     int64         \n",
      " 3   Maxpulse  32 non-null     int64         \n",
      " 4   Calories  32 non-null     float64       \n",
      "dtypes: datetime64[ns](1), float64(1), int64(3)\n",
      "memory usage: 1.4 KB\n"
     ]
    }
   ],
   "source": [
    "df.info()"
   ],
   "metadata": {
    "collapsed": false
   }
  },
  {
   "cell_type": "code",
   "execution_count": 9,
   "outputs": [
    {
     "data": {
      "text/plain": "    Duration       Date  Pulse  Maxpulse  Calories\n0         60 2020-12-01    110       130    409.10\n1         60 2020-12-02    117       145    479.00\n2         60 2020-12-03    103       135    340.00\n3         45 2020-12-04    109       175    282.40\n4         45 2020-12-05    117       148    406.00\n5         60 2020-12-06    102       127    300.00\n6         60 2020-12-07    110       136    374.00\n7         50 2020-12-08    104       134    253.30\n8         30 2020-12-09    109       133    195.10\n9         60 2020-12-10     98       124    269.00\n10        60 2020-12-11    103       147    329.30\n11        60 2020-12-12    100       120    250.70\n12        60 2020-12-12    100       120    250.70\n13        60 2020-12-13    106       128    345.30\n14        60 2020-12-14    104       132    379.30\n15        60 2020-12-15     98       123    275.00\n16        60 2020-12-16     98       120    215.20\n17        60 2020-12-17    100       120    300.00\n18        45 2020-12-18     90       112    304.68\n19        60 2020-12-19    103       123    323.00\n20        45 2020-12-20     97       125    243.00\n21        60 2020-12-21    108       131    364.20\n23        60 2020-12-23    130       101    300.00\n24        45 2020-12-24    105       132    246.00\n25        60 2020-12-25    102       126    334.50\n26        60 2020-12-26    100       120    250.00\n27        60 2020-12-27     92       118    241.00\n28        60 2020-12-28    103       132    304.68\n29        60 2020-12-29    100       132    280.00\n30        60 2020-12-30    102       129    380.30\n31        60 2020-12-31     92       115    243.00",
      "text/html": "<div>\n<style scoped>\n    .dataframe tbody tr th:only-of-type {\n        vertical-align: middle;\n    }\n\n    .dataframe tbody tr th {\n        vertical-align: top;\n    }\n\n    .dataframe thead th {\n        text-align: right;\n    }\n</style>\n<table border=\"1\" class=\"dataframe\">\n  <thead>\n    <tr style=\"text-align: right;\">\n      <th></th>\n      <th>Duration</th>\n      <th>Date</th>\n      <th>Pulse</th>\n      <th>Maxpulse</th>\n      <th>Calories</th>\n    </tr>\n  </thead>\n  <tbody>\n    <tr>\n      <th>0</th>\n      <td>60</td>\n      <td>2020-12-01</td>\n      <td>110</td>\n      <td>130</td>\n      <td>409.10</td>\n    </tr>\n    <tr>\n      <th>1</th>\n      <td>60</td>\n      <td>2020-12-02</td>\n      <td>117</td>\n      <td>145</td>\n      <td>479.00</td>\n    </tr>\n    <tr>\n      <th>2</th>\n      <td>60</td>\n      <td>2020-12-03</td>\n      <td>103</td>\n      <td>135</td>\n      <td>340.00</td>\n    </tr>\n    <tr>\n      <th>3</th>\n      <td>45</td>\n      <td>2020-12-04</td>\n      <td>109</td>\n      <td>175</td>\n      <td>282.40</td>\n    </tr>\n    <tr>\n      <th>4</th>\n      <td>45</td>\n      <td>2020-12-05</td>\n      <td>117</td>\n      <td>148</td>\n      <td>406.00</td>\n    </tr>\n    <tr>\n      <th>5</th>\n      <td>60</td>\n      <td>2020-12-06</td>\n      <td>102</td>\n      <td>127</td>\n      <td>300.00</td>\n    </tr>\n    <tr>\n      <th>6</th>\n      <td>60</td>\n      <td>2020-12-07</td>\n      <td>110</td>\n      <td>136</td>\n      <td>374.00</td>\n    </tr>\n    <tr>\n      <th>7</th>\n      <td>50</td>\n      <td>2020-12-08</td>\n      <td>104</td>\n      <td>134</td>\n      <td>253.30</td>\n    </tr>\n    <tr>\n      <th>8</th>\n      <td>30</td>\n      <td>2020-12-09</td>\n      <td>109</td>\n      <td>133</td>\n      <td>195.10</td>\n    </tr>\n    <tr>\n      <th>9</th>\n      <td>60</td>\n      <td>2020-12-10</td>\n      <td>98</td>\n      <td>124</td>\n      <td>269.00</td>\n    </tr>\n    <tr>\n      <th>10</th>\n      <td>60</td>\n      <td>2020-12-11</td>\n      <td>103</td>\n      <td>147</td>\n      <td>329.30</td>\n    </tr>\n    <tr>\n      <th>11</th>\n      <td>60</td>\n      <td>2020-12-12</td>\n      <td>100</td>\n      <td>120</td>\n      <td>250.70</td>\n    </tr>\n    <tr>\n      <th>12</th>\n      <td>60</td>\n      <td>2020-12-12</td>\n      <td>100</td>\n      <td>120</td>\n      <td>250.70</td>\n    </tr>\n    <tr>\n      <th>13</th>\n      <td>60</td>\n      <td>2020-12-13</td>\n      <td>106</td>\n      <td>128</td>\n      <td>345.30</td>\n    </tr>\n    <tr>\n      <th>14</th>\n      <td>60</td>\n      <td>2020-12-14</td>\n      <td>104</td>\n      <td>132</td>\n      <td>379.30</td>\n    </tr>\n    <tr>\n      <th>15</th>\n      <td>60</td>\n      <td>2020-12-15</td>\n      <td>98</td>\n      <td>123</td>\n      <td>275.00</td>\n    </tr>\n    <tr>\n      <th>16</th>\n      <td>60</td>\n      <td>2020-12-16</td>\n      <td>98</td>\n      <td>120</td>\n      <td>215.20</td>\n    </tr>\n    <tr>\n      <th>17</th>\n      <td>60</td>\n      <td>2020-12-17</td>\n      <td>100</td>\n      <td>120</td>\n      <td>300.00</td>\n    </tr>\n    <tr>\n      <th>18</th>\n      <td>45</td>\n      <td>2020-12-18</td>\n      <td>90</td>\n      <td>112</td>\n      <td>304.68</td>\n    </tr>\n    <tr>\n      <th>19</th>\n      <td>60</td>\n      <td>2020-12-19</td>\n      <td>103</td>\n      <td>123</td>\n      <td>323.00</td>\n    </tr>\n    <tr>\n      <th>20</th>\n      <td>45</td>\n      <td>2020-12-20</td>\n      <td>97</td>\n      <td>125</td>\n      <td>243.00</td>\n    </tr>\n    <tr>\n      <th>21</th>\n      <td>60</td>\n      <td>2020-12-21</td>\n      <td>108</td>\n      <td>131</td>\n      <td>364.20</td>\n    </tr>\n    <tr>\n      <th>23</th>\n      <td>60</td>\n      <td>2020-12-23</td>\n      <td>130</td>\n      <td>101</td>\n      <td>300.00</td>\n    </tr>\n    <tr>\n      <th>24</th>\n      <td>45</td>\n      <td>2020-12-24</td>\n      <td>105</td>\n      <td>132</td>\n      <td>246.00</td>\n    </tr>\n    <tr>\n      <th>25</th>\n      <td>60</td>\n      <td>2020-12-25</td>\n      <td>102</td>\n      <td>126</td>\n      <td>334.50</td>\n    </tr>\n    <tr>\n      <th>26</th>\n      <td>60</td>\n      <td>2020-12-26</td>\n      <td>100</td>\n      <td>120</td>\n      <td>250.00</td>\n    </tr>\n    <tr>\n      <th>27</th>\n      <td>60</td>\n      <td>2020-12-27</td>\n      <td>92</td>\n      <td>118</td>\n      <td>241.00</td>\n    </tr>\n    <tr>\n      <th>28</th>\n      <td>60</td>\n      <td>2020-12-28</td>\n      <td>103</td>\n      <td>132</td>\n      <td>304.68</td>\n    </tr>\n    <tr>\n      <th>29</th>\n      <td>60</td>\n      <td>2020-12-29</td>\n      <td>100</td>\n      <td>132</td>\n      <td>280.00</td>\n    </tr>\n    <tr>\n      <th>30</th>\n      <td>60</td>\n      <td>2020-12-30</td>\n      <td>102</td>\n      <td>129</td>\n      <td>380.30</td>\n    </tr>\n    <tr>\n      <th>31</th>\n      <td>60</td>\n      <td>2020-12-31</td>\n      <td>92</td>\n      <td>115</td>\n      <td>243.00</td>\n    </tr>\n  </tbody>\n</table>\n</div>"
     },
     "execution_count": 9,
     "metadata": {},
     "output_type": "execute_result"
    }
   ],
   "source": [
    "# removing row with NaT(Not a Time) value\n",
    "df.dropna(subset=['Date'], inplace=True)\n",
    "df"
   ],
   "metadata": {
    "collapsed": false
   }
  },
  {
   "cell_type": "markdown",
   "source": [
    "FIXING WRONG DATA"
   ],
   "metadata": {
    "collapsed": false
   }
  },
  {
   "cell_type": "code",
   "execution_count": 10,
   "outputs": [],
   "source": [
    "# Set 'Duration' = 45 in row 7\n",
    "# df.loc[7, 'Duration'] = 45"
   ],
   "metadata": {
    "collapsed": false
   }
  },
  {
   "cell_type": "code",
   "execution_count": 11,
   "outputs": [
    {
     "data": {
      "text/plain": "    Duration       Date  Pulse  Maxpulse  Calories\n0         60 2020-12-01    110       130    409.10\n1         60 2020-12-02    117       145    479.00\n2         60 2020-12-03    103       135    340.00\n3         45 2020-12-04    109       175    282.40\n4         45 2020-12-05    117       148    406.00\n5         60 2020-12-06    102       127    300.00\n6         60 2020-12-07    110       136    374.00\n7         50 2020-12-08    104       134    253.30\n8         30 2020-12-09    109       133    195.10\n9         60 2020-12-10     98       124    269.00\n10        60 2020-12-11    103       147    329.30\n11        60 2020-12-12    100       120    250.70\n12        60 2020-12-12    100       120    250.70\n13        60 2020-12-13    106       128    345.30\n14        60 2020-12-14    104       132    379.30\n15        60 2020-12-15     98       123    275.00\n16        60 2020-12-16     98       120    215.20\n17        60 2020-12-17    100       120    300.00\n18        45 2020-12-18     90       112    304.68\n19        60 2020-12-19    103       123    323.00\n20        45 2020-12-20     97       125    243.00\n21        60 2020-12-21    108       131    364.20\n23        60 2020-12-23    130       101    300.00\n24        45 2020-12-24    105       132    246.00\n25        60 2020-12-25    102       126    334.50\n26        60 2020-12-26    100       120    250.00\n27        60 2020-12-27     92       118    241.00\n28        60 2020-12-28    103       132    304.68\n29        60 2020-12-29    100       132    280.00\n30        60 2020-12-30    102       129    380.30\n31        60 2020-12-31     92       115    243.00",
      "text/html": "<div>\n<style scoped>\n    .dataframe tbody tr th:only-of-type {\n        vertical-align: middle;\n    }\n\n    .dataframe tbody tr th {\n        vertical-align: top;\n    }\n\n    .dataframe thead th {\n        text-align: right;\n    }\n</style>\n<table border=\"1\" class=\"dataframe\">\n  <thead>\n    <tr style=\"text-align: right;\">\n      <th></th>\n      <th>Duration</th>\n      <th>Date</th>\n      <th>Pulse</th>\n      <th>Maxpulse</th>\n      <th>Calories</th>\n    </tr>\n  </thead>\n  <tbody>\n    <tr>\n      <th>0</th>\n      <td>60</td>\n      <td>2020-12-01</td>\n      <td>110</td>\n      <td>130</td>\n      <td>409.10</td>\n    </tr>\n    <tr>\n      <th>1</th>\n      <td>60</td>\n      <td>2020-12-02</td>\n      <td>117</td>\n      <td>145</td>\n      <td>479.00</td>\n    </tr>\n    <tr>\n      <th>2</th>\n      <td>60</td>\n      <td>2020-12-03</td>\n      <td>103</td>\n      <td>135</td>\n      <td>340.00</td>\n    </tr>\n    <tr>\n      <th>3</th>\n      <td>45</td>\n      <td>2020-12-04</td>\n      <td>109</td>\n      <td>175</td>\n      <td>282.40</td>\n    </tr>\n    <tr>\n      <th>4</th>\n      <td>45</td>\n      <td>2020-12-05</td>\n      <td>117</td>\n      <td>148</td>\n      <td>406.00</td>\n    </tr>\n    <tr>\n      <th>5</th>\n      <td>60</td>\n      <td>2020-12-06</td>\n      <td>102</td>\n      <td>127</td>\n      <td>300.00</td>\n    </tr>\n    <tr>\n      <th>6</th>\n      <td>60</td>\n      <td>2020-12-07</td>\n      <td>110</td>\n      <td>136</td>\n      <td>374.00</td>\n    </tr>\n    <tr>\n      <th>7</th>\n      <td>50</td>\n      <td>2020-12-08</td>\n      <td>104</td>\n      <td>134</td>\n      <td>253.30</td>\n    </tr>\n    <tr>\n      <th>8</th>\n      <td>30</td>\n      <td>2020-12-09</td>\n      <td>109</td>\n      <td>133</td>\n      <td>195.10</td>\n    </tr>\n    <tr>\n      <th>9</th>\n      <td>60</td>\n      <td>2020-12-10</td>\n      <td>98</td>\n      <td>124</td>\n      <td>269.00</td>\n    </tr>\n    <tr>\n      <th>10</th>\n      <td>60</td>\n      <td>2020-12-11</td>\n      <td>103</td>\n      <td>147</td>\n      <td>329.30</td>\n    </tr>\n    <tr>\n      <th>11</th>\n      <td>60</td>\n      <td>2020-12-12</td>\n      <td>100</td>\n      <td>120</td>\n      <td>250.70</td>\n    </tr>\n    <tr>\n      <th>12</th>\n      <td>60</td>\n      <td>2020-12-12</td>\n      <td>100</td>\n      <td>120</td>\n      <td>250.70</td>\n    </tr>\n    <tr>\n      <th>13</th>\n      <td>60</td>\n      <td>2020-12-13</td>\n      <td>106</td>\n      <td>128</td>\n      <td>345.30</td>\n    </tr>\n    <tr>\n      <th>14</th>\n      <td>60</td>\n      <td>2020-12-14</td>\n      <td>104</td>\n      <td>132</td>\n      <td>379.30</td>\n    </tr>\n    <tr>\n      <th>15</th>\n      <td>60</td>\n      <td>2020-12-15</td>\n      <td>98</td>\n      <td>123</td>\n      <td>275.00</td>\n    </tr>\n    <tr>\n      <th>16</th>\n      <td>60</td>\n      <td>2020-12-16</td>\n      <td>98</td>\n      <td>120</td>\n      <td>215.20</td>\n    </tr>\n    <tr>\n      <th>17</th>\n      <td>60</td>\n      <td>2020-12-17</td>\n      <td>100</td>\n      <td>120</td>\n      <td>300.00</td>\n    </tr>\n    <tr>\n      <th>18</th>\n      <td>45</td>\n      <td>2020-12-18</td>\n      <td>90</td>\n      <td>112</td>\n      <td>304.68</td>\n    </tr>\n    <tr>\n      <th>19</th>\n      <td>60</td>\n      <td>2020-12-19</td>\n      <td>103</td>\n      <td>123</td>\n      <td>323.00</td>\n    </tr>\n    <tr>\n      <th>20</th>\n      <td>45</td>\n      <td>2020-12-20</td>\n      <td>97</td>\n      <td>125</td>\n      <td>243.00</td>\n    </tr>\n    <tr>\n      <th>21</th>\n      <td>60</td>\n      <td>2020-12-21</td>\n      <td>108</td>\n      <td>131</td>\n      <td>364.20</td>\n    </tr>\n    <tr>\n      <th>23</th>\n      <td>60</td>\n      <td>2020-12-23</td>\n      <td>130</td>\n      <td>101</td>\n      <td>300.00</td>\n    </tr>\n    <tr>\n      <th>24</th>\n      <td>45</td>\n      <td>2020-12-24</td>\n      <td>105</td>\n      <td>132</td>\n      <td>246.00</td>\n    </tr>\n    <tr>\n      <th>25</th>\n      <td>60</td>\n      <td>2020-12-25</td>\n      <td>102</td>\n      <td>126</td>\n      <td>334.50</td>\n    </tr>\n    <tr>\n      <th>26</th>\n      <td>60</td>\n      <td>2020-12-26</td>\n      <td>100</td>\n      <td>120</td>\n      <td>250.00</td>\n    </tr>\n    <tr>\n      <th>27</th>\n      <td>60</td>\n      <td>2020-12-27</td>\n      <td>92</td>\n      <td>118</td>\n      <td>241.00</td>\n    </tr>\n    <tr>\n      <th>28</th>\n      <td>60</td>\n      <td>2020-12-28</td>\n      <td>103</td>\n      <td>132</td>\n      <td>304.68</td>\n    </tr>\n    <tr>\n      <th>29</th>\n      <td>60</td>\n      <td>2020-12-29</td>\n      <td>100</td>\n      <td>132</td>\n      <td>280.00</td>\n    </tr>\n    <tr>\n      <th>30</th>\n      <td>60</td>\n      <td>2020-12-30</td>\n      <td>102</td>\n      <td>129</td>\n      <td>380.30</td>\n    </tr>\n    <tr>\n      <th>31</th>\n      <td>60</td>\n      <td>2020-12-31</td>\n      <td>92</td>\n      <td>115</td>\n      <td>243.00</td>\n    </tr>\n  </tbody>\n</table>\n</div>"
     },
     "execution_count": 11,
     "metadata": {},
     "output_type": "execute_result"
    }
   ],
   "source": [
    "# Delete rows where 'Duration' is higher than 120\n",
    "for x in df.index:\n",
    "    if df.loc[x, 'Duration'] > 120:\n",
    "        df.drop(x, inplace=True)\n",
    "\n",
    "df"
   ],
   "metadata": {
    "collapsed": false
   }
  },
  {
   "cell_type": "markdown",
   "source": [
    "REMOVING DUPLICATES"
   ],
   "metadata": {
    "collapsed": false
   }
  },
  {
   "cell_type": "code",
   "execution_count": 12,
   "outputs": [
    {
     "name": "stdout",
     "output_type": "stream",
     "text": [
      "0     False\n",
      "1     False\n",
      "2     False\n",
      "3     False\n",
      "4     False\n",
      "5     False\n",
      "6     False\n",
      "7     False\n",
      "8     False\n",
      "9     False\n",
      "10    False\n",
      "11    False\n",
      "12     True\n",
      "13    False\n",
      "14    False\n",
      "15    False\n",
      "16    False\n",
      "17    False\n",
      "18    False\n",
      "19    False\n",
      "20    False\n",
      "21    False\n",
      "23    False\n",
      "24    False\n",
      "25    False\n",
      "26    False\n",
      "27    False\n",
      "28    False\n",
      "29    False\n",
      "30    False\n",
      "31    False\n",
      "dtype: bool\n"
     ]
    }
   ],
   "source": [
    "# check for duplicates\n",
    "print(df.duplicated())"
   ],
   "metadata": {
    "collapsed": false
   }
  },
  {
   "cell_type": "code",
   "execution_count": 13,
   "outputs": [
    {
     "data": {
      "text/plain": "    Duration       Date  Pulse  Maxpulse  Calories\n0         60 2020-12-01    110       130    409.10\n1         60 2020-12-02    117       145    479.00\n2         60 2020-12-03    103       135    340.00\n3         45 2020-12-04    109       175    282.40\n4         45 2020-12-05    117       148    406.00\n5         60 2020-12-06    102       127    300.00\n6         60 2020-12-07    110       136    374.00\n7         50 2020-12-08    104       134    253.30\n8         30 2020-12-09    109       133    195.10\n9         60 2020-12-10     98       124    269.00\n10        60 2020-12-11    103       147    329.30\n11        60 2020-12-12    100       120    250.70\n13        60 2020-12-13    106       128    345.30\n14        60 2020-12-14    104       132    379.30\n15        60 2020-12-15     98       123    275.00\n16        60 2020-12-16     98       120    215.20\n17        60 2020-12-17    100       120    300.00\n18        45 2020-12-18     90       112    304.68\n19        60 2020-12-19    103       123    323.00\n20        45 2020-12-20     97       125    243.00\n21        60 2020-12-21    108       131    364.20\n23        60 2020-12-23    130       101    300.00\n24        45 2020-12-24    105       132    246.00\n25        60 2020-12-25    102       126    334.50\n26        60 2020-12-26    100       120    250.00\n27        60 2020-12-27     92       118    241.00\n28        60 2020-12-28    103       132    304.68\n29        60 2020-12-29    100       132    280.00\n30        60 2020-12-30    102       129    380.30\n31        60 2020-12-31     92       115    243.00",
      "text/html": "<div>\n<style scoped>\n    .dataframe tbody tr th:only-of-type {\n        vertical-align: middle;\n    }\n\n    .dataframe tbody tr th {\n        vertical-align: top;\n    }\n\n    .dataframe thead th {\n        text-align: right;\n    }\n</style>\n<table border=\"1\" class=\"dataframe\">\n  <thead>\n    <tr style=\"text-align: right;\">\n      <th></th>\n      <th>Duration</th>\n      <th>Date</th>\n      <th>Pulse</th>\n      <th>Maxpulse</th>\n      <th>Calories</th>\n    </tr>\n  </thead>\n  <tbody>\n    <tr>\n      <th>0</th>\n      <td>60</td>\n      <td>2020-12-01</td>\n      <td>110</td>\n      <td>130</td>\n      <td>409.10</td>\n    </tr>\n    <tr>\n      <th>1</th>\n      <td>60</td>\n      <td>2020-12-02</td>\n      <td>117</td>\n      <td>145</td>\n      <td>479.00</td>\n    </tr>\n    <tr>\n      <th>2</th>\n      <td>60</td>\n      <td>2020-12-03</td>\n      <td>103</td>\n      <td>135</td>\n      <td>340.00</td>\n    </tr>\n    <tr>\n      <th>3</th>\n      <td>45</td>\n      <td>2020-12-04</td>\n      <td>109</td>\n      <td>175</td>\n      <td>282.40</td>\n    </tr>\n    <tr>\n      <th>4</th>\n      <td>45</td>\n      <td>2020-12-05</td>\n      <td>117</td>\n      <td>148</td>\n      <td>406.00</td>\n    </tr>\n    <tr>\n      <th>5</th>\n      <td>60</td>\n      <td>2020-12-06</td>\n      <td>102</td>\n      <td>127</td>\n      <td>300.00</td>\n    </tr>\n    <tr>\n      <th>6</th>\n      <td>60</td>\n      <td>2020-12-07</td>\n      <td>110</td>\n      <td>136</td>\n      <td>374.00</td>\n    </tr>\n    <tr>\n      <th>7</th>\n      <td>50</td>\n      <td>2020-12-08</td>\n      <td>104</td>\n      <td>134</td>\n      <td>253.30</td>\n    </tr>\n    <tr>\n      <th>8</th>\n      <td>30</td>\n      <td>2020-12-09</td>\n      <td>109</td>\n      <td>133</td>\n      <td>195.10</td>\n    </tr>\n    <tr>\n      <th>9</th>\n      <td>60</td>\n      <td>2020-12-10</td>\n      <td>98</td>\n      <td>124</td>\n      <td>269.00</td>\n    </tr>\n    <tr>\n      <th>10</th>\n      <td>60</td>\n      <td>2020-12-11</td>\n      <td>103</td>\n      <td>147</td>\n      <td>329.30</td>\n    </tr>\n    <tr>\n      <th>11</th>\n      <td>60</td>\n      <td>2020-12-12</td>\n      <td>100</td>\n      <td>120</td>\n      <td>250.70</td>\n    </tr>\n    <tr>\n      <th>13</th>\n      <td>60</td>\n      <td>2020-12-13</td>\n      <td>106</td>\n      <td>128</td>\n      <td>345.30</td>\n    </tr>\n    <tr>\n      <th>14</th>\n      <td>60</td>\n      <td>2020-12-14</td>\n      <td>104</td>\n      <td>132</td>\n      <td>379.30</td>\n    </tr>\n    <tr>\n      <th>15</th>\n      <td>60</td>\n      <td>2020-12-15</td>\n      <td>98</td>\n      <td>123</td>\n      <td>275.00</td>\n    </tr>\n    <tr>\n      <th>16</th>\n      <td>60</td>\n      <td>2020-12-16</td>\n      <td>98</td>\n      <td>120</td>\n      <td>215.20</td>\n    </tr>\n    <tr>\n      <th>17</th>\n      <td>60</td>\n      <td>2020-12-17</td>\n      <td>100</td>\n      <td>120</td>\n      <td>300.00</td>\n    </tr>\n    <tr>\n      <th>18</th>\n      <td>45</td>\n      <td>2020-12-18</td>\n      <td>90</td>\n      <td>112</td>\n      <td>304.68</td>\n    </tr>\n    <tr>\n      <th>19</th>\n      <td>60</td>\n      <td>2020-12-19</td>\n      <td>103</td>\n      <td>123</td>\n      <td>323.00</td>\n    </tr>\n    <tr>\n      <th>20</th>\n      <td>45</td>\n      <td>2020-12-20</td>\n      <td>97</td>\n      <td>125</td>\n      <td>243.00</td>\n    </tr>\n    <tr>\n      <th>21</th>\n      <td>60</td>\n      <td>2020-12-21</td>\n      <td>108</td>\n      <td>131</td>\n      <td>364.20</td>\n    </tr>\n    <tr>\n      <th>23</th>\n      <td>60</td>\n      <td>2020-12-23</td>\n      <td>130</td>\n      <td>101</td>\n      <td>300.00</td>\n    </tr>\n    <tr>\n      <th>24</th>\n      <td>45</td>\n      <td>2020-12-24</td>\n      <td>105</td>\n      <td>132</td>\n      <td>246.00</td>\n    </tr>\n    <tr>\n      <th>25</th>\n      <td>60</td>\n      <td>2020-12-25</td>\n      <td>102</td>\n      <td>126</td>\n      <td>334.50</td>\n    </tr>\n    <tr>\n      <th>26</th>\n      <td>60</td>\n      <td>2020-12-26</td>\n      <td>100</td>\n      <td>120</td>\n      <td>250.00</td>\n    </tr>\n    <tr>\n      <th>27</th>\n      <td>60</td>\n      <td>2020-12-27</td>\n      <td>92</td>\n      <td>118</td>\n      <td>241.00</td>\n    </tr>\n    <tr>\n      <th>28</th>\n      <td>60</td>\n      <td>2020-12-28</td>\n      <td>103</td>\n      <td>132</td>\n      <td>304.68</td>\n    </tr>\n    <tr>\n      <th>29</th>\n      <td>60</td>\n      <td>2020-12-29</td>\n      <td>100</td>\n      <td>132</td>\n      <td>280.00</td>\n    </tr>\n    <tr>\n      <th>30</th>\n      <td>60</td>\n      <td>2020-12-30</td>\n      <td>102</td>\n      <td>129</td>\n      <td>380.30</td>\n    </tr>\n    <tr>\n      <th>31</th>\n      <td>60</td>\n      <td>2020-12-31</td>\n      <td>92</td>\n      <td>115</td>\n      <td>243.00</td>\n    </tr>\n  </tbody>\n</table>\n</div>"
     },
     "execution_count": 13,
     "metadata": {},
     "output_type": "execute_result"
    }
   ],
   "source": [
    "# Remove all duplicates\n",
    "df.drop_duplicates(inplace=True)\n",
    "df"
   ],
   "metadata": {
    "collapsed": false
   }
  },
  {
   "cell_type": "code",
   "execution_count": 14,
   "outputs": [],
   "source": [
    "# Exporting clean dataframe to .csv file\n",
    "df.to_csv('data-clean.csv', index=False)"
   ],
   "metadata": {
    "collapsed": false
   }
  },
  {
   "cell_type": "code",
   "execution_count": null,
   "outputs": [],
   "source": [],
   "metadata": {
    "collapsed": false,
    "pycharm": {
     "is_executing": true
    }
   }
  },
  {
   "cell_type": "code",
   "execution_count": null,
   "outputs": [],
   "source": [],
   "metadata": {
    "collapsed": false,
    "pycharm": {
     "is_executing": true
    }
   }
  },
  {
   "cell_type": "code",
   "execution_count": 23,
   "outputs": [
    {
     "name": "stderr",
     "output_type": "stream",
     "text": [
      "UsageError: Line magic function `%matplotlib_inline` not found.\n"
     ]
    }
   ],
   "source": [
    "import matplotlib.pyplot as plt"
   ],
   "metadata": {
    "collapsed": false
   }
  },
  {
   "cell_type": "code",
   "execution_count": 31,
   "outputs": [
    {
     "data": {
      "text/plain": "<Figure size 432x288 with 1 Axes>",
      "image/png": "[encoded data removed]"
     },
     "metadata": {
      "needs_background": "light"
     },
     "output_type": "display_data"
    }
   ],
   "source": [
    "plt.plot(df['Duration'], df['Calories'], marker='*')\n",
    "plt.title('Duration vs Calories', loc='left')\n",
    "plt.xlabel('Duration')\n",
    "plt.ylabel('Calories')\n",
    "plt.grid()\n",
    "plt.show()"
   ],
   "metadata": {
    "collapsed": false
   }
  },
  {
   "cell_type": "code",
   "execution_count": null,
   "outputs": [],
   "source": [],
   "metadata": {
    "collapsed": false
   }
  }
 ],
 "metadata": {
  "kernelspec": {
   "display_name": "Python 3",
   "language": "python",
   "name": "python3"
  },
  "language_info": {
   "codemirror_mode": {
    "name": "ipython",
    "version": 2
   },
   "file_extension": ".py",
   "mimetype": "text/x-python",
   "name": "python",
   "nbconvert_exporter": "python",
   "pygments_lexer": "ipython2",
   "version": "2.7.6"
  }
 },
 "nbformat": 4,
 "nbformat_minor": 0
}
