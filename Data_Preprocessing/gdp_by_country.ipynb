{
 "cells": [
  {
   "cell_type": "markdown",
   "metadata": {},
   "source": [
    "STEP 1: Importing Libraries"
   ]
  },
  {
   "cell_type": "code",
   "execution_count": 1,
   "metadata": {},
   "outputs": [],
   "source": [
    "import pandas as pd\n",
    "# import numpy as np\n",
    "import matplotlib.pyplot as plt\n",
    "import seaborn as sns\n",
    "import plotly.express as px\n",
    "\n",
    "import warnings\n",
    "warnings.filterwarnings('ignore')"
   ]
  },
  {
   "cell_type": "markdown",
   "metadata": {},
   "source": [
    "STEP 2: Importing Dataset"
   ]
  },
  {
   "cell_type": "code",
   "execution_count": 2,
   "metadata": {},
   "outputs": [
    {
     "data": {
      "text/html": [
       "<div>\n",
       "<style scoped>\n",
       "    .dataframe tbody tr th:only-of-type {\n",
       "        vertical-align: middle;\n",
       "    }\n",
       "\n",
       "    .dataframe tbody tr th {\n",
       "        vertical-align: top;\n",
       "    }\n",
       "\n",
       "    .dataframe thead th {\n",
       "        text-align: right;\n",
       "    }\n",
       "</style>\n",
       "<table border=\"1\" class=\"dataframe\">\n",
       "  <thead>\n",
       "    <tr style=\"text-align: right;\">\n",
       "      <th></th>\n",
       "      <th>index</th>\n",
       "      <th>Year</th>\n",
       "      <th>County FIPS</th>\n",
       "      <th>Region</th>\n",
       "      <th>SUB_REGION</th>\n",
       "      <th>State</th>\n",
       "      <th>STATE_ABBR</th>\n",
       "      <th>County</th>\n",
       "      <th>County Full Name</th>\n",
       "      <th>GDP (Chained $)</th>\n",
       "    </tr>\n",
       "  </thead>\n",
       "  <tbody>\n",
       "    <tr>\n",
       "      <th>0</th>\n",
       "      <td>0</td>\n",
       "      <td>2001</td>\n",
       "      <td>1001</td>\n",
       "      <td>Southeast</td>\n",
       "      <td>East South Central</td>\n",
       "      <td>Alabama</td>\n",
       "      <td>AL</td>\n",
       "      <td>Autauga</td>\n",
       "      <td>Autauga County</td>\n",
       "      <td>954588000</td>\n",
       "    </tr>\n",
       "    <tr>\n",
       "      <th>1</th>\n",
       "      <td>1</td>\n",
       "      <td>2001</td>\n",
       "      <td>1003</td>\n",
       "      <td>Southeast</td>\n",
       "      <td>East South Central</td>\n",
       "      <td>Alabama</td>\n",
       "      <td>AL</td>\n",
       "      <td>Baldwin</td>\n",
       "      <td>Baldwin County</td>\n",
       "      <td>3929753000</td>\n",
       "    </tr>\n",
       "    <tr>\n",
       "      <th>2</th>\n",
       "      <td>2</td>\n",
       "      <td>2001</td>\n",
       "      <td>1005</td>\n",
       "      <td>Southeast</td>\n",
       "      <td>East South Central</td>\n",
       "      <td>Alabama</td>\n",
       "      <td>AL</td>\n",
       "      <td>Barbour</td>\n",
       "      <td>Barbour County</td>\n",
       "      <td>813278000</td>\n",
       "    </tr>\n",
       "    <tr>\n",
       "      <th>3</th>\n",
       "      <td>3</td>\n",
       "      <td>2001</td>\n",
       "      <td>1007</td>\n",
       "      <td>Southeast</td>\n",
       "      <td>East South Central</td>\n",
       "      <td>Alabama</td>\n",
       "      <td>AL</td>\n",
       "      <td>Bibb</td>\n",
       "      <td>Bibb County</td>\n",
       "      <td>292693000</td>\n",
       "    </tr>\n",
       "    <tr>\n",
       "      <th>4</th>\n",
       "      <td>4</td>\n",
       "      <td>2001</td>\n",
       "      <td>1009</td>\n",
       "      <td>Southeast</td>\n",
       "      <td>East South Central</td>\n",
       "      <td>Alabama</td>\n",
       "      <td>AL</td>\n",
       "      <td>Blount</td>\n",
       "      <td>Blount County</td>\n",
       "      <td>810381000</td>\n",
       "    </tr>\n",
       "  </tbody>\n",
       "</table>\n",
       "</div>"
      ],
      "text/plain": [
       "   index  Year  County FIPS     Region          SUB_REGION    State  \\\n",
       "0      0  2001         1001  Southeast  East South Central  Alabama   \n",
       "1      1  2001         1003  Southeast  East South Central  Alabama   \n",
       "2      2  2001         1005  Southeast  East South Central  Alabama   \n",
       "3      3  2001         1007  Southeast  East South Central  Alabama   \n",
       "4      4  2001         1009  Southeast  East South Central  Alabama   \n",
       "\n",
       "  STATE_ABBR   County County Full Name  GDP (Chained $)  \n",
       "0         AL  Autauga   Autauga County        954588000  \n",
       "1         AL  Baldwin   Baldwin County       3929753000  \n",
       "2         AL  Barbour   Barbour County        813278000  \n",
       "3         AL     Bibb      Bibb County        292693000  \n",
       "4         AL   Blount    Blount County        810381000  "
      ]
     },
     "execution_count": 2,
     "metadata": {},
     "output_type": "execute_result"
    }
   ],
   "source": [
    "dataset = pd.read_csv('gdp_by_county.csv')\n",
    "dataset.head()"
   ]
  },
  {
   "cell_type": "markdown",
   "metadata": {},
   "source": [
    "STEP 3: Looking into shape of Dataset"
   ]
  },
  {
   "cell_type": "code",
   "execution_count": 3,
   "metadata": {},
   "outputs": [
    {
     "data": {
      "text/plain": [
       "(55563, 10)"
      ]
     },
     "execution_count": 3,
     "metadata": {},
     "output_type": "execute_result"
    }
   ],
   "source": [
    "dataset.shape"
   ]
  },
  {
   "cell_type": "code",
   "execution_count": 4,
   "metadata": {},
   "outputs": [
    {
     "name": "stdout",
     "output_type": "stream",
     "text": [
      "Number of Rows: 55563\n",
      "Number of Columns: 10\n"
     ]
    }
   ],
   "source": [
    "rows, cols = dataset.shape\n",
    "print(\"Number of Rows:\", rows)\n",
    "print(\"Number of Columns:\", cols)"
   ]
  },
  {
   "cell_type": "markdown",
   "metadata": {},
   "source": [
    "STEP 3: Looking into null values"
   ]
  },
  {
   "cell_type": "code",
   "execution_count": 5,
   "metadata": {},
   "outputs": [
    {
     "data": {
      "text/plain": [
       "index               0\n",
       "Year                0\n",
       "County FIPS         0\n",
       "Region              0\n",
       "SUB_REGION          0\n",
       "State               0\n",
       "STATE_ABBR          0\n",
       "County              0\n",
       "County Full Name    0\n",
       "GDP (Chained $)     0\n",
       "dtype: int64"
      ]
     },
     "execution_count": 5,
     "metadata": {},
     "output_type": "execute_result"
    }
   ],
   "source": [
    "dataset.isnull().sum()"
   ]
  },
  {
   "cell_type": "markdown",
   "metadata": {},
   "source": [
    "STEP 4: Structure of Dataset"
   ]
  },
  {
   "cell_type": "code",
   "execution_count": 6,
   "metadata": {},
   "outputs": [
    {
     "name": "stdout",
     "output_type": "stream",
     "text": [
      "<class 'pandas.core.frame.DataFrame'>\n",
      "RangeIndex: 55563 entries, 0 to 55562\n",
      "Data columns (total 10 columns):\n",
      " #   Column            Non-Null Count  Dtype \n",
      "---  ------            --------------  ----- \n",
      " 0   index             55563 non-null  int64 \n",
      " 1   Year              55563 non-null  int64 \n",
      " 2   County FIPS       55563 non-null  int64 \n",
      " 3   Region            55563 non-null  object\n",
      " 4   SUB_REGION        55563 non-null  object\n",
      " 5   State             55563 non-null  object\n",
      " 6   STATE_ABBR        55563 non-null  object\n",
      " 7   County            55563 non-null  object\n",
      " 8   County Full Name  55563 non-null  object\n",
      " 9   GDP (Chained $)   55563 non-null  int64 \n",
      "dtypes: int64(4), object(6)\n",
      "memory usage: 4.2+ MB\n"
     ]
    }
   ],
   "source": [
    "dataset.info()"
   ]
  },
  {
   "cell_type": "markdown",
   "metadata": {},
   "source": [
    "STEP 5: Summary of Dataset"
   ]
  },
  {
   "cell_type": "code",
   "execution_count": 7,
   "metadata": {},
   "outputs": [
    {
     "data": {
      "text/html": [
       "<div>\n",
       "<style scoped>\n",
       "    .dataframe tbody tr th:only-of-type {\n",
       "        vertical-align: middle;\n",
       "    }\n",
       "\n",
       "    .dataframe tbody tr th {\n",
       "        vertical-align: top;\n",
       "    }\n",
       "\n",
       "    .dataframe thead th {\n",
       "        text-align: right;\n",
       "    }\n",
       "</style>\n",
       "<table border=\"1\" class=\"dataframe\">\n",
       "  <thead>\n",
       "    <tr style=\"text-align: right;\">\n",
       "      <th></th>\n",
       "      <th>index</th>\n",
       "      <th>Year</th>\n",
       "      <th>County FIPS</th>\n",
       "      <th>GDP (Chained $)</th>\n",
       "    </tr>\n",
       "  </thead>\n",
       "  <tbody>\n",
       "    <tr>\n",
       "      <th>count</th>\n",
       "      <td>55563.00000</td>\n",
       "      <td>55563.000000</td>\n",
       "      <td>55563.000000</td>\n",
       "      <td>5.556300e+04</td>\n",
       "    </tr>\n",
       "    <tr>\n",
       "      <th>mean</th>\n",
       "      <td>27781.00000</td>\n",
       "      <td>2009.503699</td>\n",
       "      <td>30065.772708</td>\n",
       "      <td>5.051672e+09</td>\n",
       "    </tr>\n",
       "    <tr>\n",
       "      <th>std</th>\n",
       "      <td>16039.80084</td>\n",
       "      <td>5.187777</td>\n",
       "      <td>15027.395609</td>\n",
       "      <td>2.153252e+10</td>\n",
       "    </tr>\n",
       "    <tr>\n",
       "      <th>min</th>\n",
       "      <td>0.00000</td>\n",
       "      <td>2001.000000</td>\n",
       "      <td>1001.000000</td>\n",
       "      <td>9.948000e+06</td>\n",
       "    </tr>\n",
       "    <tr>\n",
       "      <th>25%</th>\n",
       "      <td>13890.50000</td>\n",
       "      <td>2005.000000</td>\n",
       "      <td>18157.000000</td>\n",
       "      <td>3.368815e+08</td>\n",
       "    </tr>\n",
       "    <tr>\n",
       "      <th>50%</th>\n",
       "      <td>27781.00000</td>\n",
       "      <td>2010.000000</td>\n",
       "      <td>29129.000000</td>\n",
       "      <td>8.617320e+08</td>\n",
       "    </tr>\n",
       "    <tr>\n",
       "      <th>75%</th>\n",
       "      <td>41671.50000</td>\n",
       "      <td>2014.000000</td>\n",
       "      <td>45007.000000</td>\n",
       "      <td>2.490224e+09</td>\n",
       "    </tr>\n",
       "    <tr>\n",
       "      <th>max</th>\n",
       "      <td>55562.00000</td>\n",
       "      <td>2018.000000</td>\n",
       "      <td>56045.000000</td>\n",
       "      <td>7.108933e+11</td>\n",
       "    </tr>\n",
       "  </tbody>\n",
       "</table>\n",
       "</div>"
      ],
      "text/plain": [
       "             index          Year   County FIPS  GDP (Chained $)\n",
       "count  55563.00000  55563.000000  55563.000000     5.556300e+04\n",
       "mean   27781.00000   2009.503699  30065.772708     5.051672e+09\n",
       "std    16039.80084      5.187777  15027.395609     2.153252e+10\n",
       "min        0.00000   2001.000000   1001.000000     9.948000e+06\n",
       "25%    13890.50000   2005.000000  18157.000000     3.368815e+08\n",
       "50%    27781.00000   2010.000000  29129.000000     8.617320e+08\n",
       "75%    41671.50000   2014.000000  45007.000000     2.490224e+09\n",
       "max    55562.00000   2018.000000  56045.000000     7.108933e+11"
      ]
     },
     "execution_count": 7,
     "metadata": {},
     "output_type": "execute_result"
    }
   ],
   "source": [
    "dataset.describe()"
   ]
  },
  {
   "cell_type": "markdown",
   "metadata": {},
   "source": [
    "STEP 6: Heatmap of our Dataset"
   ]
  },
  {
   "cell_type": "code",
   "execution_count": 8,
   "metadata": {},
   "outputs": [
    {
     "data": {
      "text/plain": [
       "<AxesSubplot:>"
      ]
     },
     "execution_count": 8,
     "metadata": {},
     "output_type": "execute_result"
    },
    {
     "data": {
      "image/png": "[encoded data removed]",
      "text/plain": [
       "<Figure size 432x288 with 2 Axes>"
      ]
     },
     "metadata": {},
     "output_type": "display_data"
    }
   ],
   "source": [
    "cor = dataset.corr()\n",
    "sns.heatmap(cor, annot=True)"
   ]
  },
  {
   "cell_type": "markdown",
   "metadata": {},
   "source": [
    "STEP 7: Data Visualization"
   ]
  },
  {
   "cell_type": "code",
   "execution_count": 9,
   "metadata": {},
   "outputs": [
    {
     "name": "stdout",
     "output_type": "stream",
     "text": [
      "<class 'pandas.core.frame.DataFrame'>\n",
      "RangeIndex: 55563 entries, 0 to 55562\n",
      "Data columns (total 10 columns):\n",
      " #   Column            Non-Null Count  Dtype \n",
      "---  ------            --------------  ----- \n",
      " 0   index             55563 non-null  int64 \n",
      " 1   Year              55563 non-null  int64 \n",
      " 2   County FIPS       55563 non-null  int64 \n",
      " 3   Region            55563 non-null  object\n",
      " 4   SUB_REGION        55563 non-null  object\n",
      " 5   State             55563 non-null  object\n",
      " 6   STATE_ABBR        55563 non-null  object\n",
      " 7   County            55563 non-null  object\n",
      " 8   County Full Name  55563 non-null  object\n",
      " 9   GDP (Chained $)   55563 non-null  int64 \n",
      "dtypes: int64(4), object(6)\n",
      "memory usage: 4.2+ MB\n"
     ]
    }
   ],
   "source": [
    "dataset.info()"
   ]
  },
  {
   "cell_type": "code",
   "execution_count": 10,
   "metadata": {},
   "outputs": [],
   "source": [
    "cat_cols = ['Region', 'SUB_REGION', 'State', 'STATE_ABBR', 'County', 'County Full Name']"
   ]
  },
  {
   "cell_type": "code",
   "execution_count": null,
   "metadata": {
    "pycharm": {
     "is_executing": true
    }
   },
   "outputs": [],
   "source": [
    "# plotting categorical columns\n",
    "c1 = 1\n",
    "plt.figure(figsize=(10, 30))\n",
    "for i in cat_cols:\n",
    "    plt.subplot(3, 2, c1)\n",
    "    sns.countplot(dataset[i])\n",
    "    c1 = c1 + 1\n",
    "plt.show()"
   ]
  },
  {
   "cell_type": "code",
   "execution_count": null,
   "metadata": {
    "pycharm": {
     "is_executing": true
    }
   },
   "outputs": [],
   "source": [
    "num_cols = ['index', 'Year', 'County FIPS', 'GDP (Chained $)']"
   ]
  },
  {
   "cell_type": "code",
   "execution_count": null,
   "metadata": {
    "pycharm": {
     "is_executing": true
    }
   },
   "outputs": [],
   "source": [
    "# plotting numerical columns\n",
    "c2 = 1\n",
    "plt.figure(figsize=(10, 30))\n",
    "for i in num_cols:\n",
    "    plt.subplot(6, 1, c2)\n",
    "    sns.distplot(dataset[i])\n",
    "    c2 = c2 + 1\n",
    "plt.show()"
   ]
  },
  {
   "cell_type": "code",
   "execution_count": null,
   "metadata": {
    "pycharm": {
     "is_executing": true
    }
   },
   "outputs": [],
   "source": [
    "# plotting numerical columns\n",
    "c3 = 1\n",
    "plt.figure(figsize=(10, 30))\n",
    "for i in num_cols:\n",
    "    plt.subplot(4, 1, c3)\n",
    "    sns.boxplot(dataset[i])\n",
    "    c3 = c3 + 1\n",
    "plt.show()"
   ]
  },
  {
   "cell_type": "code",
   "execution_count": null,
   "metadata": {
    "pycharm": {
     "is_executing": true
    }
   },
   "outputs": [],
   "source": [
    "fig=px.bar(dataset,x='GDP (Chained $)',y='Year',color='County',text='Region',template='simple_white',barmode='group',range_x=[0,300],width=2000, height=400,pattern_shape_sequence=[\"+\"],title='<i> Year with respect to GDP')\n",
    "fig.update_layout( plot_bgcolor='#e9f5f5', paper_bgcolor='#e9f5f5')\n",
    "fig.show()\n"
   ]
  },
  {
   "cell_type": "code",
   "execution_count": null,
   "metadata": {
    "pycharm": {
     "is_executing": true
    }
   },
   "outputs": [],
   "source": [
    "dataset.head()"
   ]
  },
  {
   "cell_type": "code",
   "execution_count": null,
   "metadata": {
    "pycharm": {
     "is_executing": true
    }
   },
   "outputs": [],
   "source": [
    "fig = px.scatter(dataset, x=\"County FIPS\", y=\"Year\",\n",
    "                 size=\"GDP (Chained $)\", color=\"County\",\n",
    "                 hover_name=\"State\", log_x=True, size_max=60)\n",
    "fig.show()\n"
   ]
  },
  {
   "cell_type": "code",
   "execution_count": null,
   "metadata": {
    "pycharm": {
     "is_executing": true
    }
   },
   "outputs": [],
   "source": []
  }
 ],
 "metadata": {
  "kernelspec": {
   "display_name": "Python 3",
   "language": "python",
   "name": "python3"
  },
  "language_info": {
   "codemirror_mode": {
    "name": "ipython",
    "version": 3
   },
   "file_extension": ".py",
   "mimetype": "text/x-python",
   "name": "python",
   "nbconvert_exporter": "python",
   "pygments_lexer": "ipython3",
   "version": "3.11.0 (main, Oct 24 2022, 18:26:48) [MSC v.1933 64 bit (AMD64)]"
  },
  "vscode": {
   "interpreter": {
    "hash": "a0689fd3f4028309bea88e1541f25f12046eef81370ba30cf915836496af8455"
   }
  }
 },
 "nbformat": 4,
 "nbformat_minor": 1
}
