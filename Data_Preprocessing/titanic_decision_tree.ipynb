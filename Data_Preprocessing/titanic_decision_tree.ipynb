{
 "cells": [
  {
   "cell_type": "markdown",
   "id": "349f7a05",
   "metadata": {},
   "source": [
    "<h1 style=\"font-size:3rem; color:green\">Titanic</h1>"
   ]
  },
  {
   "cell_type": "code",
   "execution_count": null,
   "id": "8400ad49",
   "metadata": {},
   "outputs": [],
   "source": [
    "# Data\n",
    "import pandas as pd\n",
    "import numpy as np\n",
    "\n",
    "# Visualization\n",
    "import matplotlib\n",
    "import matplotlib.pyplot as plt\n",
    "import seaborn as sns\n",
    "import plotly.express as px\n",
    "import plotly.graph_objects as go\n",
    "from plotly.subplots import make_subplots\n",
    "import missingno as msno\n",
    "\n",
    "# Additional imports\n",
    "from sklearn.impute import SimpleImputer\n",
    "from sklearn.preprocessing import OneHotEncoder\n",
    "from sklearn import preprocessing\n"
   ]
  },
  {
   "cell_type": "code",
   "execution_count": null,
   "id": "6d29d98b",
   "metadata": {},
   "outputs": [],
   "source": [
    "def read_dataset():\n",
    "    v_train = pd.read_csv('train.csv')\n",
    "    print('Train data imported successfully!')\n",
    "    v_test = pd.read_csv('test.csv')\n",
    "    print('Test data imported successfully!')\n",
    "    return v_train, v_test\n"
   ]
  },
  {
   "cell_type": "code",
   "execution_count": null,
   "id": "1a06aafb",
   "metadata": {},
   "outputs": [],
   "source": [
    "v_train, v_test = read_dataset()"
   ]
  },
  {
   "cell_type": "code",
   "execution_count": null,
   "id": "05a66f66",
   "metadata": {},
   "outputs": [],
   "source": [
    "v_train.head()\n"
   ]
  },
  {
   "cell_type": "code",
   "execution_count": null,
   "id": "8250ee96",
   "metadata": {},
   "outputs": [],
   "source": [
    "print('Info of train data: ')\n",
    "print(v_train.info())\n"
   ]
  },
  {
   "cell_type": "code",
   "execution_count": null,
   "id": "63e705f4",
   "metadata": {},
   "outputs": [],
   "source": [
    "v_train.isnull().sum()\n"
   ]
  },
  {
   "cell_type": "code",
   "execution_count": null,
   "id": "a6eff2b4",
   "metadata": {},
   "outputs": [],
   "source": [
    "msno.matrix(v_train)\n",
    "plt.title('Distribution of Missing Value', fontsize=30, fontstyle='oblique')\n"
   ]
  },
  {
   "cell_type": "code",
   "execution_count": null,
   "id": "83391698",
   "metadata": {},
   "outputs": [],
   "source": [
    "v_train.drop([\"PassengerId\", \"Cabin\", \"Ticket\", \"Name\"], inplace=True, axis=1)\n"
   ]
  },
  {
   "cell_type": "code",
   "execution_count": null,
   "id": "7752e53b",
   "metadata": {},
   "outputs": [],
   "source": [
    "train_inputs = v_train.drop('Survived', axis=1)\n",
    "train_targets = v_train['Survived']\n"
   ]
  },
  {
   "cell_type": "code",
   "execution_count": null,
   "id": "3cc2a262",
   "metadata": {},
   "outputs": [],
   "source": [
    "numeric_cols = train_inputs.select_dtypes(include = np.number).columns.tolist()\n",
    "categorical_cols = train_inputs.select_dtypes('object').columns.tolist()\n"
   ]
  },
  {
   "cell_type": "code",
   "execution_count": null,
   "id": "e4a78ac5",
   "metadata": {},
   "outputs": [],
   "source": [
    "imputer = SimpleImputer(strategy='mean').fit(train_inputs[numeric_cols])\n"
   ]
  },
  {
   "cell_type": "code",
   "execution_count": null,
   "id": "08047c99",
   "metadata": {},
   "outputs": [],
   "source": [
    "train_inputs[numeric_cols] = imputer.transform(train_inputs[numeric_cols])\n"
   ]
  },
  {
   "cell_type": "code",
   "execution_count": null,
   "id": "d8944102",
   "metadata": {},
   "outputs": [],
   "source": [
    "train_inputs['Embarked'].value_counts()\n"
   ]
  },
  {
   "cell_type": "code",
   "execution_count": null,
   "id": "d4a6e50f",
   "metadata": {},
   "outputs": [],
   "source": [
    "sns.displot(v_train['Embarked'])\n",
    "plt.show()\n"
   ]
  },
  {
   "cell_type": "code",
   "execution_count": null,
   "id": "4c97c5e3",
   "metadata": {},
   "outputs": [],
   "source": [
    "train_inputs['Embarked'] = train_inputs['Embarked'].fillna('S')\n"
   ]
  },
  {
   "cell_type": "code",
   "execution_count": null,
   "id": "32eae259",
   "metadata": {},
   "outputs": [],
   "source": [
    "encoder = OneHotEncoder(sparse = False, handle_unknown = 'ignore').fit(train_inputs[categorical_cols])\n"
   ]
  },
  {
   "cell_type": "code",
   "execution_count": null,
   "id": "2c8dd9ca",
   "metadata": {},
   "outputs": [],
   "source": [
    "encoded_cols = list(encoder.get_feature_names_out(categorical_cols))\n"
   ]
  },
  {
   "cell_type": "code",
   "execution_count": null,
   "id": "140f561a",
   "metadata": {},
   "outputs": [],
   "source": [
    "train_inputs[encoded_cols] = encoder.transform(train_inputs[categorical_cols])\n"
   ]
  },
  {
   "cell_type": "code",
   "execution_count": null,
   "id": "1946cda3",
   "metadata": {},
   "outputs": [],
   "source": [
    "train_inputs\n"
   ]
  },
  {
   "cell_type": "code",
   "execution_count": null,
   "id": "9ce5d9f0",
   "metadata": {},
   "outputs": [],
   "source": [
    "gender = pd.get_dummies(train_inputs['Sex'], drop_first=True)\n",
    "train_inputs['Gender'] = gender\n",
    "train_inputs['Gender'] = train_inputs['Gender'].astype('float64')\n",
    "train_inputs\n"
   ]
  },
  {
   "cell_type": "markdown",
   "id": "22479bee",
   "metadata": {},
   "source": [
    "<h1 style=\"font-size:2rem; color:green\">Label Encoder</h1>"
   ]
  },
  {
   "cell_type": "code",
   "execution_count": null,
   "id": "e03669a1",
   "metadata": {},
   "outputs": [],
   "source": [
    "label_encoder = preprocessing.LabelEncoder()\n",
    "train_inputs['Embarked'] = label_encoder.fit_transform(train_inputs['Embarked'])\n",
    "train_inputs['Embarked'] = train_inputs['Embarked'].astype('float64')\n",
    "train_inputs\n"
   ]
  },
  {
   "cell_type": "markdown",
   "id": "9ec5aecd",
   "metadata": {},
   "source": [
    "<h1 style=\"font-size:2rem; color:green\">Drop the textual categorical columns</h1>"
   ]
  },
  {
   "cell_type": "code",
   "execution_count": null,
   "id": "7abd2e05",
   "metadata": {},
   "outputs": [],
   "source": [
    "train_inputs.drop(['Sex'], inplace=True, axis=1)\n",
    "train_inputs\n"
   ]
  },
  {
   "cell_type": "code",
   "execution_count": null,
   "id": "4b25380d",
   "metadata": {},
   "outputs": [],
   "source": [
    "train_inputs.dtypes\n"
   ]
  },
  {
   "cell_type": "code",
   "execution_count": null,
   "id": "ef3ebfbb",
   "metadata": {},
   "outputs": [],
   "source": [
    "train_inputs.isna().sum()\n"
   ]
  },
  {
   "cell_type": "code",
   "execution_count": null,
   "id": "74077f76",
   "metadata": {},
   "outputs": [],
   "source": [
    "train_inputs.drop(['Sex_female','Sex_male','Embarked_C','Embarked_Q','Embarked_S'], inplace=True, axis=1)\n",
    "train_inputs\n"
   ]
  },
  {
   "cell_type": "code",
   "execution_count": null,
   "id": "00ca4ad3",
   "metadata": {},
   "outputs": [],
   "source": [
    "train_inputs['Family_Mems'] = train_inputs['SibSp'] + train_inputs['Parch']\n",
    "train_inputs.drop(['SibSp','Parch'], inplace=True, axis=1)\n",
    "train_inputs\n"
   ]
  },
  {
   "cell_type": "code",
   "execution_count": null,
   "id": "7be943f7",
   "metadata": {},
   "outputs": [],
   "source": [
    "train_inputs.info()\n"
   ]
  },
  {
   "cell_type": "code",
   "execution_count": null,
   "id": "10c5a972",
   "metadata": {},
   "outputs": [],
   "source": [
    "X = train_inputs.copy()\n",
    "X\n"
   ]
  },
  {
   "cell_type": "markdown",
   "id": "1781baed",
   "metadata": {},
   "source": [
    "<h1 style=\"font-size:2rem; color:green\">Converting from Pandas DataFrame to Numpy Array</h1>"
   ]
  },
  {
   "cell_type": "code",
   "execution_count": null,
   "id": "0526e5c6",
   "metadata": {},
   "outputs": [],
   "source": [
    "X = X.to_numpy(dtype='float64')\n",
    "X\n"
   ]
  },
  {
   "cell_type": "code",
   "execution_count": null,
   "id": "e4f27cd5",
   "metadata": {},
   "outputs": [],
   "source": [
    "print(X[:5, :])\n"
   ]
  },
  {
   "cell_type": "code",
   "execution_count": null,
   "id": "d324e752",
   "metadata": {},
   "outputs": [],
   "source": [
    "# Testing data\n",
    "v_test.head(5)\n"
   ]
  },
  {
   "cell_type": "code",
   "execution_count": null,
   "id": "9c1d0926",
   "metadata": {},
   "outputs": [],
   "source": [
    "v_test.drop([\"PassengerId\",\"Cabin\",\"Ticket\",\"Name\"], inplace=True, axis=1)\n"
   ]
  },
  {
   "cell_type": "code",
   "execution_count": null,
   "id": "3e208d12",
   "metadata": {},
   "outputs": [],
   "source": [
    "test_inputs = v_test\n",
    "test_inputs\n"
   ]
  },
  {
   "cell_type": "code",
   "execution_count": null,
   "id": "9b4f3cac",
   "metadata": {},
   "outputs": [],
   "source": [
    "numeric_cols_test = test_inputs.select_dtypes(include=np.number).columns.tolist()\n",
    "categorical_cols_test = test_inputs.select_dtypes('object').columns.tolist()\n"
   ]
  },
  {
   "cell_type": "code",
   "execution_count": null,
   "id": "726903d3",
   "metadata": {},
   "outputs": [],
   "source": [
    "imputer2 = SimpleImputer(strategy='mean').fit(test_inputs[numeric_cols_test])\n",
    "test_inputs[numeric_cols_test] = imputer2.transform(v_test[numeric_cols_test])\n"
   ]
  },
  {
   "cell_type": "code",
   "execution_count": null,
   "id": "3f354d75",
   "metadata": {},
   "outputs": [],
   "source": [
    "test_inputs['Embarked'].value_counts()\n"
   ]
  },
  {
   "cell_type": "code",
   "execution_count": null,
   "id": "7b42d2ff",
   "metadata": {},
   "outputs": [],
   "source": [
    "test_inputs['Embarked'] = test_inputs['Embarked'].fillna('S')\n"
   ]
  },
  {
   "cell_type": "code",
   "execution_count": null,
   "id": "aaf8c1f3",
   "metadata": {},
   "outputs": [],
   "source": [
    "# encoder2 = OneHotEncoder(sparse=False, handle_unknown='ignore').fit(test_inputs[categorical_cols_test])\n",
    "# encoded_cols_test = "
   ]
  }
 ],
 "metadata": {
  "kernelspec": {
   "display_name": "Python 3",
   "language": "python",
   "name": "python3"
  },
  "language_info": {
   "codemirror_mode": {
    "name": "ipython",
    "version": 3
   },
   "file_extension": ".py",
   "mimetype": "text/x-python",
   "name": "python",
   "nbconvert_exporter": "python",
   "pygments_lexer": "ipython3",
   "version": "3.11.0 (main, Oct 24 2022, 18:26:48) [MSC v.1933 64 bit (AMD64)]"
  },
  "vscode": {
   "interpreter": {
    "hash": "a0689fd3f4028309bea88e1541f25f12046eef81370ba30cf915836496af8455"
   }
  }
 },
 "nbformat": 4,
 "nbformat_minor": 5
}
