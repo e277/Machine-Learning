{
 "cells": [
  {
   "cell_type": "code",
   "execution_count": 1,
   "id": "78b34d5f",
   "metadata": {},
   "outputs": [],
   "source": [
    "import pyodbc\n",
    "import pandas as pd\n",
    "import numpy as np\n",
    "import matplotlib.pyplot as plt\n",
    "import glob\n",
    "\n",
    "import warnings\n",
    "warnings.filterwarnings('ignore')"
   ]
  },
  {
   "cell_type": "code",
   "execution_count": 5,
   "id": "c942a4a4",
   "metadata": {},
   "outputs": [
    {
     "name": "stdout",
     "output_type": "stream",
     "text": [
      "Connection Failed\n"
     ]
    }
   ],
   "source": [
    "try:\n",
    "    conn = pyodbc.connect(\n",
    "        'Driver={SQL Server};'\n",
    "        'Server=DESKTOP-VOT1DO6\\MSSQLSERVER_NEW;'\n",
    "        'Database=BankDB;'\n",
    "        'Trusted_Connection=yes;'\n",
    "    )\n",
    "    print(\"Connection Established\")\n",
    "\n",
    "except Exception as e:\n",
    "    print(\"Connection Failed\")"
   ]
  },
  {
   "cell_type": "code",
   "execution_count": 6,
   "id": "d63fac1e",
   "metadata": {},
   "outputs": [],
   "source": [
    "def getAccount():\n",
    "    try:\n",
    "        account = pd.read_sql_query('''\n",
    "        SELECT * FROM Accounts\n",
    "        ''',\n",
    "        conn)\n",
    "        df = pd.DataFrame(account)\n",
    "        df.to_csv(r'C:/Users/Ezra Muir/Documents/Training-Work/Python/Nov_Learn/SQL To Diagram/account.csv', index=False)\n",
    "    except Exception as e:\n",
    "        print(e)\n",
    "        \n",
    "def getBank():\n",
    "    try:\n",
    "        bank = pd.read_sql_query('''\n",
    "        SELECT * FROM Bank\n",
    "        ''',\n",
    "        conn)\n",
    "        df = pd.DataFrame(bank)\n",
    "        df.to_csv(r'C:/Users/Ezra Muir/Documents/Training-Work/Python/Nov_Learn/SQL To Diagram/bank.csv', index=False)\n",
    "    except Exception as e:\n",
    "        print(e)\n",
    "        \n",
    "def getCard():\n",
    "    try:\n",
    "        card = pd.read_sql_query('''\n",
    "        SELECT * FROM Cards\n",
    "        ''',\n",
    "        conn)\n",
    "        df = pd.DataFrame(card)\n",
    "        df.to_csv(r'C:/Users/Ezra Muir/Documents/Training-Work/Python/Nov_Learn/SQL To Diagram/card.csv', index=False)\n",
    "    except Exception as e:\n",
    "        print(e)\n",
    "        \n",
    "def getCustomer():\n",
    "    try:\n",
    "        customer = pd.read_sql_query('''\n",
    "        SELECT * FROM Customers\n",
    "        ''',\n",
    "        conn)\n",
    "        df = pd.DataFrame(customer)\n",
    "        df.to_csv(r'C:/Users/Ezra Muir/Documents/Training-Work/Python/Nov_Learn/SQL To Diagram/customer.csv', index=False)\n",
    "    except Exception as e:\n",
    "        print(e)\n",
    "        \n",
    "def getLoan():\n",
    "    try:\n",
    "        loan = pd.read_sql_query('''\n",
    "        SELECT * FROM Loans\n",
    "        ''',\n",
    "        conn)\n",
    "        df = pd.DataFrame(loan)\n",
    "        df.to_csv(r'C:/Users/Ezra Muir/Documents/Training-Work/Python/Nov_Learn/SQL To Diagram/loan.csv', index=False)\n",
    "    except Exception as e:\n",
    "        print(e)\n",
    "        \n",
    "def getService():\n",
    "    try:\n",
    "        service = pd.read_sql_query('''\n",
    "        SELECT * FROM Services\n",
    "        ''',\n",
    "        conn)\n",
    "        df = pd.DataFrame(service)\n",
    "        df.to_csv(r'C:/Users/Ezra Muir/Documents/Training-Work/Python/Nov_Learn/SQL To Diagram/service.csv', index=False)\n",
    "    except Exception as e:\n",
    "        print(e)\n",
    "        \n",
    "def getTransaction():\n",
    "    try:\n",
    "        transaction = pd.read_sql_query('''\n",
    "        SELECT * FROM Transactions\n",
    "        ''',\n",
    "        conn)\n",
    "        df = pd.DataFrame(transaction)\n",
    "        df.to_csv(r'C:/Users/Ezra Muir/Documents/Training-Work/Python/Nov_Learn/SQL To Diagram/transaction.csv', index=False)\n",
    "    except Exception as e:\n",
    "        print(e)\n"
   ]
  },
  {
   "cell_type": "code",
   "execution_count": 7,
   "id": "f5616ae6",
   "metadata": {},
   "outputs": [
    {
     "name": "stdout",
     "output_type": "stream",
     "text": [
      "name 'conn' is not defined\n",
      "name 'conn' is not defined\n",
      "name 'conn' is not defined\n",
      "name 'conn' is not defined\n",
      "name 'conn' is not defined\n",
      "name 'conn' is not defined\n",
      "name 'conn' is not defined\n"
     ]
    }
   ],
   "source": [
    "getAccount()\n",
    "getBank()\n",
    "getCard()\n",
    "getCustomer()\n",
    "getLoan()\n",
    "getService()\n",
    "getTransaction()"
   ]
  },
  {
   "cell_type": "code",
   "execution_count": 8,
   "id": "2a8ed7f0",
   "metadata": {},
   "outputs": [],
   "source": [
    "# # Reading all \"*/.csv\"\n",
    "\n",
    "# # specifying the path to csv files\n",
    "# path = \"C:/Users/Ezra Muir/Documents/Training-Work/Python/Nov_Learn/SQL To Diagram/\"\n",
    "  \n",
    "# # csv files in the path\n",
    "# files = glob.glob(path + \"/*.csv\")\n",
    "  \n",
    "# # defining an empty list to store \n",
    "# # content\n",
    "# data_frame = pd.DataFrame()\n",
    "# content = []\n",
    "  \n",
    "# # checking all the csv files in the \n",
    "# # specified path\n",
    "# for filename in files:\n",
    "    \n",
    "#     # reading content of csv file\n",
    "#     # content.append(filename)\n",
    "#     df = pd.read_csv(filename, index_col=None)\n",
    "#     content.append(df)\n",
    "  \n",
    "# # converting content to data frame\n",
    "# data_frame = pd.concat(content)\n",
    "# print(data_frame)"
   ]
  },
  {
   "cell_type": "code",
   "execution_count": 9,
   "id": "7cfaf25a",
   "metadata": {},
   "outputs": [
    {
     "ename": "FileNotFoundError",
     "evalue": "[Errno 2] No such file or directory: 'C:/Users/Ezra Muir/Documents/Training-Work/Python/Nov_Learn/SQL To Diagram/transaction.csv'",
     "output_type": "error",
     "traceback": [
      "\u001b[1;31m---------------------------------------------------------------------------\u001b[0m",
      "\u001b[1;31mFileNotFoundError\u001b[0m                         Traceback (most recent call last)",
      "\u001b[1;32mc:\\Users\\Ezra Muir\\Documents\\Training-Work\\Machine Learning\\NovSQL To Diagram\\Demo_1.ipynb Cell 6\u001b[0m in \u001b[0;36m<cell line: 1>\u001b[1;34m()\u001b[0m\n\u001b[1;32m----> <a href='vscode-notebook-cell:/c%3A/Users/Ezra%20Muir/Documents/Training-Work/Machine%20Learning/NovSQL%20To%20Diagram/Demo_1.ipynb#W5sZmlsZQ%3D%3D?line=0'>1</a>\u001b[0m df_transaction \u001b[39m=\u001b[39m pd\u001b[39m.\u001b[39;49mread_csv(\u001b[39m\"\u001b[39;49m\u001b[39mC:/Users/Ezra Muir/Documents/Training-Work/Python/Nov_Learn/SQL To Diagram/transaction.csv\u001b[39;49m\u001b[39m\"\u001b[39;49m)\n\u001b[0;32m      <a href='vscode-notebook-cell:/c%3A/Users/Ezra%20Muir/Documents/Training-Work/Machine%20Learning/NovSQL%20To%20Diagram/Demo_1.ipynb#W5sZmlsZQ%3D%3D?line=2'>3</a>\u001b[0m plt\u001b[39m.\u001b[39mrcParams[\u001b[39m\"\u001b[39m\u001b[39mfigure.figsize\u001b[39m\u001b[39m\"\u001b[39m] \u001b[39m=\u001b[39m [\u001b[39m7.50\u001b[39m, \u001b[39m3.50\u001b[39m]\n\u001b[0;32m      <a href='vscode-notebook-cell:/c%3A/Users/Ezra%20Muir/Documents/Training-Work/Machine%20Learning/NovSQL%20To%20Diagram/Demo_1.ipynb#W5sZmlsZQ%3D%3D?line=3'>4</a>\u001b[0m plt\u001b[39m.\u001b[39mrcParams[\u001b[39m\"\u001b[39m\u001b[39mfigure.autolayout\u001b[39m\u001b[39m\"\u001b[39m] \u001b[39m=\u001b[39m \u001b[39mTrue\u001b[39;00m\n",
      "File \u001b[1;32mc:\\Users\\Ezra Muir\\anaconda3\\lib\\site-packages\\pandas\\util\\_decorators.py:311\u001b[0m, in \u001b[0;36mdeprecate_nonkeyword_arguments.<locals>.decorate.<locals>.wrapper\u001b[1;34m(*args, **kwargs)\u001b[0m\n\u001b[0;32m    305\u001b[0m \u001b[39mif\u001b[39;00m \u001b[39mlen\u001b[39m(args) \u001b[39m>\u001b[39m num_allow_args:\n\u001b[0;32m    306\u001b[0m     warnings\u001b[39m.\u001b[39mwarn(\n\u001b[0;32m    307\u001b[0m         msg\u001b[39m.\u001b[39mformat(arguments\u001b[39m=\u001b[39marguments),\n\u001b[0;32m    308\u001b[0m         \u001b[39mFutureWarning\u001b[39;00m,\n\u001b[0;32m    309\u001b[0m         stacklevel\u001b[39m=\u001b[39mstacklevel,\n\u001b[0;32m    310\u001b[0m     )\n\u001b[1;32m--> 311\u001b[0m \u001b[39mreturn\u001b[39;00m func(\u001b[39m*\u001b[39margs, \u001b[39m*\u001b[39m\u001b[39m*\u001b[39mkwargs)\n",
      "File \u001b[1;32mc:\\Users\\Ezra Muir\\anaconda3\\lib\\site-packages\\pandas\\io\\parsers\\readers.py:680\u001b[0m, in \u001b[0;36mread_csv\u001b[1;34m(filepath_or_buffer, sep, delimiter, header, names, index_col, usecols, squeeze, prefix, mangle_dupe_cols, dtype, engine, converters, true_values, false_values, skipinitialspace, skiprows, skipfooter, nrows, na_values, keep_default_na, na_filter, verbose, skip_blank_lines, parse_dates, infer_datetime_format, keep_date_col, date_parser, dayfirst, cache_dates, iterator, chunksize, compression, thousands, decimal, lineterminator, quotechar, quoting, doublequote, escapechar, comment, encoding, encoding_errors, dialect, error_bad_lines, warn_bad_lines, on_bad_lines, delim_whitespace, low_memory, memory_map, float_precision, storage_options)\u001b[0m\n\u001b[0;32m    665\u001b[0m kwds_defaults \u001b[39m=\u001b[39m _refine_defaults_read(\n\u001b[0;32m    666\u001b[0m     dialect,\n\u001b[0;32m    667\u001b[0m     delimiter,\n\u001b[1;32m   (...)\u001b[0m\n\u001b[0;32m    676\u001b[0m     defaults\u001b[39m=\u001b[39m{\u001b[39m\"\u001b[39m\u001b[39mdelimiter\u001b[39m\u001b[39m\"\u001b[39m: \u001b[39m\"\u001b[39m\u001b[39m,\u001b[39m\u001b[39m\"\u001b[39m},\n\u001b[0;32m    677\u001b[0m )\n\u001b[0;32m    678\u001b[0m kwds\u001b[39m.\u001b[39mupdate(kwds_defaults)\n\u001b[1;32m--> 680\u001b[0m \u001b[39mreturn\u001b[39;00m _read(filepath_or_buffer, kwds)\n",
      "File \u001b[1;32mc:\\Users\\Ezra Muir\\anaconda3\\lib\\site-packages\\pandas\\io\\parsers\\readers.py:575\u001b[0m, in \u001b[0;36m_read\u001b[1;34m(filepath_or_buffer, kwds)\u001b[0m\n\u001b[0;32m    572\u001b[0m _validate_names(kwds\u001b[39m.\u001b[39mget(\u001b[39m\"\u001b[39m\u001b[39mnames\u001b[39m\u001b[39m\"\u001b[39m, \u001b[39mNone\u001b[39;00m))\n\u001b[0;32m    574\u001b[0m \u001b[39m# Create the parser.\u001b[39;00m\n\u001b[1;32m--> 575\u001b[0m parser \u001b[39m=\u001b[39m TextFileReader(filepath_or_buffer, \u001b[39m*\u001b[39m\u001b[39m*\u001b[39mkwds)\n\u001b[0;32m    577\u001b[0m \u001b[39mif\u001b[39;00m chunksize \u001b[39mor\u001b[39;00m iterator:\n\u001b[0;32m    578\u001b[0m     \u001b[39mreturn\u001b[39;00m parser\n",
      "File \u001b[1;32mc:\\Users\\Ezra Muir\\anaconda3\\lib\\site-packages\\pandas\\io\\parsers\\readers.py:933\u001b[0m, in \u001b[0;36mTextFileReader.__init__\u001b[1;34m(self, f, engine, **kwds)\u001b[0m\n\u001b[0;32m    930\u001b[0m     \u001b[39mself\u001b[39m\u001b[39m.\u001b[39moptions[\u001b[39m\"\u001b[39m\u001b[39mhas_index_names\u001b[39m\u001b[39m\"\u001b[39m] \u001b[39m=\u001b[39m kwds[\u001b[39m\"\u001b[39m\u001b[39mhas_index_names\u001b[39m\u001b[39m\"\u001b[39m]\n\u001b[0;32m    932\u001b[0m \u001b[39mself\u001b[39m\u001b[39m.\u001b[39mhandles: IOHandles \u001b[39m|\u001b[39m \u001b[39mNone\u001b[39;00m \u001b[39m=\u001b[39m \u001b[39mNone\u001b[39;00m\n\u001b[1;32m--> 933\u001b[0m \u001b[39mself\u001b[39m\u001b[39m.\u001b[39m_engine \u001b[39m=\u001b[39m \u001b[39mself\u001b[39;49m\u001b[39m.\u001b[39;49m_make_engine(f, \u001b[39mself\u001b[39;49m\u001b[39m.\u001b[39;49mengine)\n",
      "File \u001b[1;32mc:\\Users\\Ezra Muir\\anaconda3\\lib\\site-packages\\pandas\\io\\parsers\\readers.py:1217\u001b[0m, in \u001b[0;36mTextFileReader._make_engine\u001b[1;34m(self, f, engine)\u001b[0m\n\u001b[0;32m   1213\u001b[0m     mode \u001b[39m=\u001b[39m \u001b[39m\"\u001b[39m\u001b[39mrb\u001b[39m\u001b[39m\"\u001b[39m\n\u001b[0;32m   1214\u001b[0m \u001b[39m# error: No overload variant of \"get_handle\" matches argument types\u001b[39;00m\n\u001b[0;32m   1215\u001b[0m \u001b[39m# \"Union[str, PathLike[str], ReadCsvBuffer[bytes], ReadCsvBuffer[str]]\"\u001b[39;00m\n\u001b[0;32m   1216\u001b[0m \u001b[39m# , \"str\", \"bool\", \"Any\", \"Any\", \"Any\", \"Any\", \"Any\"\u001b[39;00m\n\u001b[1;32m-> 1217\u001b[0m \u001b[39mself\u001b[39m\u001b[39m.\u001b[39mhandles \u001b[39m=\u001b[39m get_handle(  \u001b[39m# type: ignore[call-overload]\u001b[39;49;00m\n\u001b[0;32m   1218\u001b[0m     f,\n\u001b[0;32m   1219\u001b[0m     mode,\n\u001b[0;32m   1220\u001b[0m     encoding\u001b[39m=\u001b[39;49m\u001b[39mself\u001b[39;49m\u001b[39m.\u001b[39;49moptions\u001b[39m.\u001b[39;49mget(\u001b[39m\"\u001b[39;49m\u001b[39mencoding\u001b[39;49m\u001b[39m\"\u001b[39;49m, \u001b[39mNone\u001b[39;49;00m),\n\u001b[0;32m   1221\u001b[0m     compression\u001b[39m=\u001b[39;49m\u001b[39mself\u001b[39;49m\u001b[39m.\u001b[39;49moptions\u001b[39m.\u001b[39;49mget(\u001b[39m\"\u001b[39;49m\u001b[39mcompression\u001b[39;49m\u001b[39m\"\u001b[39;49m, \u001b[39mNone\u001b[39;49;00m),\n\u001b[0;32m   1222\u001b[0m     memory_map\u001b[39m=\u001b[39;49m\u001b[39mself\u001b[39;49m\u001b[39m.\u001b[39;49moptions\u001b[39m.\u001b[39;49mget(\u001b[39m\"\u001b[39;49m\u001b[39mmemory_map\u001b[39;49m\u001b[39m\"\u001b[39;49m, \u001b[39mFalse\u001b[39;49;00m),\n\u001b[0;32m   1223\u001b[0m     is_text\u001b[39m=\u001b[39;49mis_text,\n\u001b[0;32m   1224\u001b[0m     errors\u001b[39m=\u001b[39;49m\u001b[39mself\u001b[39;49m\u001b[39m.\u001b[39;49moptions\u001b[39m.\u001b[39;49mget(\u001b[39m\"\u001b[39;49m\u001b[39mencoding_errors\u001b[39;49m\u001b[39m\"\u001b[39;49m, \u001b[39m\"\u001b[39;49m\u001b[39mstrict\u001b[39;49m\u001b[39m\"\u001b[39;49m),\n\u001b[0;32m   1225\u001b[0m     storage_options\u001b[39m=\u001b[39;49m\u001b[39mself\u001b[39;49m\u001b[39m.\u001b[39;49moptions\u001b[39m.\u001b[39;49mget(\u001b[39m\"\u001b[39;49m\u001b[39mstorage_options\u001b[39;49m\u001b[39m\"\u001b[39;49m, \u001b[39mNone\u001b[39;49;00m),\n\u001b[0;32m   1226\u001b[0m )\n\u001b[0;32m   1227\u001b[0m \u001b[39massert\u001b[39;00m \u001b[39mself\u001b[39m\u001b[39m.\u001b[39mhandles \u001b[39mis\u001b[39;00m \u001b[39mnot\u001b[39;00m \u001b[39mNone\u001b[39;00m\n\u001b[0;32m   1228\u001b[0m f \u001b[39m=\u001b[39m \u001b[39mself\u001b[39m\u001b[39m.\u001b[39mhandles\u001b[39m.\u001b[39mhandle\n",
      "File \u001b[1;32mc:\\Users\\Ezra Muir\\anaconda3\\lib\\site-packages\\pandas\\io\\common.py:789\u001b[0m, in \u001b[0;36mget_handle\u001b[1;34m(path_or_buf, mode, encoding, compression, memory_map, is_text, errors, storage_options)\u001b[0m\n\u001b[0;32m    784\u001b[0m \u001b[39melif\u001b[39;00m \u001b[39misinstance\u001b[39m(handle, \u001b[39mstr\u001b[39m):\n\u001b[0;32m    785\u001b[0m     \u001b[39m# Check whether the filename is to be opened in binary mode.\u001b[39;00m\n\u001b[0;32m    786\u001b[0m     \u001b[39m# Binary mode does not support 'encoding' and 'newline'.\u001b[39;00m\n\u001b[0;32m    787\u001b[0m     \u001b[39mif\u001b[39;00m ioargs\u001b[39m.\u001b[39mencoding \u001b[39mand\u001b[39;00m \u001b[39m\"\u001b[39m\u001b[39mb\u001b[39m\u001b[39m\"\u001b[39m \u001b[39mnot\u001b[39;00m \u001b[39min\u001b[39;00m ioargs\u001b[39m.\u001b[39mmode:\n\u001b[0;32m    788\u001b[0m         \u001b[39m# Encoding\u001b[39;00m\n\u001b[1;32m--> 789\u001b[0m         handle \u001b[39m=\u001b[39m \u001b[39mopen\u001b[39;49m(\n\u001b[0;32m    790\u001b[0m             handle,\n\u001b[0;32m    791\u001b[0m             ioargs\u001b[39m.\u001b[39;49mmode,\n\u001b[0;32m    792\u001b[0m             encoding\u001b[39m=\u001b[39;49mioargs\u001b[39m.\u001b[39;49mencoding,\n\u001b[0;32m    793\u001b[0m             errors\u001b[39m=\u001b[39;49merrors,\n\u001b[0;32m    794\u001b[0m             newline\u001b[39m=\u001b[39;49m\u001b[39m\"\u001b[39;49m\u001b[39m\"\u001b[39;49m,\n\u001b[0;32m    795\u001b[0m         )\n\u001b[0;32m    796\u001b[0m     \u001b[39melse\u001b[39;00m:\n\u001b[0;32m    797\u001b[0m         \u001b[39m# Binary mode\u001b[39;00m\n\u001b[0;32m    798\u001b[0m         handle \u001b[39m=\u001b[39m \u001b[39mopen\u001b[39m(handle, ioargs\u001b[39m.\u001b[39mmode)\n",
      "\u001b[1;31mFileNotFoundError\u001b[0m: [Errno 2] No such file or directory: 'C:/Users/Ezra Muir/Documents/Training-Work/Python/Nov_Learn/SQL To Diagram/transaction.csv'"
     ]
    }
   ],
   "source": [
    "df_transaction = pd.read_csv(\"C:/Users/Ezra Muir/Documents/Training-Work/Python/Nov_Learn/SQL To Diagram/transaction.csv\")\n",
    "\n",
    "plt.rcParams[\"figure.figsize\"] = [7.50, 3.50]\n",
    "plt.rcParams[\"figure.autolayout\"] = True\n",
    "\n",
    "headers = ['id', 'tran_dt', 'tran_amt', 'cust_id', 'acc_id', 'loan_id']\n",
    "\n",
    "df_transaction.set_index('id').plot()\n",
    "\n",
    "plt.show()"
   ]
  },
  {
   "cell_type": "code",
   "execution_count": null,
   "id": "4f421d10",
   "metadata": {},
   "outputs": [
    {
     "data": {
      "text/plain": [
       "[<matplotlib.lines.Line2D at 0x29e6a711e20>]"
      ]
     },
     "execution_count": 7,
     "metadata": {},
     "output_type": "execute_result"
    },
    {
     "data": {
      "image/png": "[encoded data removed]",
      "text/plain": [
       "<Figure size 540x252 with 1 Axes>"
      ]
     },
     "metadata": {
      "needs_background": "light"
     },
     "output_type": "display_data"
    }
   ],
   "source": [
    "\n",
    "plt.plot(df_transaction.cust_id, df_transaction.tran_dt)"
   ]
  },
  {
   "cell_type": "code",
   "execution_count": 10,
   "id": "1ce8ae1b",
   "metadata": {
    "scrolled": true
   },
   "outputs": [
    {
     "ename": "NameError",
     "evalue": "name 'df_transaction' is not defined",
     "output_type": "error",
     "traceback": [
      "\u001b[1;31m---------------------------------------------------------------------------\u001b[0m",
      "\u001b[1;31mNameError\u001b[0m                                 Traceback (most recent call last)",
      "\u001b[1;32mc:\\Users\\Ezra Muir\\Documents\\Training-Work\\Machine Learning\\NovSQL To Diagram\\Demo_1.ipynb Cell 8\u001b[0m in \u001b[0;36m<cell line: 2>\u001b[1;34m()\u001b[0m\n\u001b[0;32m      <a href='vscode-notebook-cell:/c%3A/Users/Ezra%20Muir/Documents/Training-Work/Machine%20Learning/NovSQL%20To%20Diagram/Demo_1.ipynb#X10sZmlsZQ%3D%3D?line=0'>1</a>\u001b[0m \u001b[39m# Adding Titles\u001b[39;00m\n\u001b[1;32m----> <a href='vscode-notebook-cell:/c%3A/Users/Ezra%20Muir/Documents/Training-Work/Machine%20Learning/NovSQL%20To%20Diagram/Demo_1.ipynb#X10sZmlsZQ%3D%3D?line=1'>2</a>\u001b[0m plt\u001b[39m.\u001b[39mplot(df_transaction\u001b[39m.\u001b[39mcust_id, df_transaction\u001b[39m.\u001b[39mtran_dt)\n\u001b[0;32m      <a href='vscode-notebook-cell:/c%3A/Users/Ezra%20Muir/Documents/Training-Work/Machine%20Learning/NovSQL%20To%20Diagram/Demo_1.ipynb#X10sZmlsZQ%3D%3D?line=2'>3</a>\u001b[0m plt\u001b[39m.\u001b[39msuptitle(\u001b[39m'\u001b[39m\u001b[39mCustomer Transaction date Comparison\u001b[39m\u001b[39m'\u001b[39m)\n\u001b[0;32m      <a href='vscode-notebook-cell:/c%3A/Users/Ezra%20Muir/Documents/Training-Work/Machine%20Learning/NovSQL%20To%20Diagram/Demo_1.ipynb#X10sZmlsZQ%3D%3D?line=3'>4</a>\u001b[0m plt\u001b[39m.\u001b[39mtitle(\u001b[39m'\u001b[39m\u001b[39mBank Transactions\u001b[39m\u001b[39m'\u001b[39m, fontdict\u001b[39m=\u001b[39m{\u001b[39m'\u001b[39m\u001b[39mfontsize\u001b[39m\u001b[39m'\u001b[39m:\u001b[39m15\u001b[39m,\u001b[39m'\u001b[39m\u001b[39mfontweight\u001b[39m\u001b[39m'\u001b[39m:\u001b[39m'\u001b[39m\u001b[39mbold\u001b[39m\u001b[39m'\u001b[39m})\n",
      "\u001b[1;31mNameError\u001b[0m: name 'df_transaction' is not defined"
     ]
    }
   ],
   "source": [
    "# Adding Titles\n",
    "plt.plot(df_transaction.cust_id, df_transaction.tran_dt)\n",
    "plt.suptitle('Customer Transaction date Comparison')\n",
    "plt.title('Bank Transactions', fontdict={'fontsize':15,'fontweight':'bold'})\n",
    "plt.xlabel('Customer Id')\n",
    "plt.ylabel('Transaction Date')"
   ]
  },
  {
   "cell_type": "code",
   "execution_count": 9,
   "id": "e27e629d",
   "metadata": {},
   "outputs": [],
   "source": [
    "# Plotting multiple files\n",
    "data_blue = pd.read_csv(\"C:/Users/Ezra Muir/Documents/Training-Work/Python/Nov_Learn/SQL To Diagram/account.csv\")\n",
    "data_red = pd.read_csv(\"C:/Users/Ezra Muir/Documents/Training-Work/Python/Nov_Learn/SQL To Diagram/loan.csv\")\n",
    "data_aqua= pd.read_csv(\"C:/Users/Ezra Muir/Documents/Training-Work/Python/Nov_Learn/SQL To Diagram/customer.csv\")"
   ]
  },
  {
   "cell_type": "code",
   "execution_count": 10,
   "id": "5068e685",
   "metadata": {},
   "outputs": [
    {
     "data": {
      "image/png": "[encoded data removed]",
      "text/plain": [
       "<Figure size 720x504 with 1 Axes>"
      ]
     },
     "metadata": {
      "needs_background": "light"
     },
     "output_type": "display_data"
    }
   ],
   "source": [
    "plt.figure(figsize=(10, 7))   # Set the size of your plot. It will determine the relative size of all the labels.\n",
    "\n",
    "plt.plot(data_aqua['id'], data_aqua['acc_id'], color=\"aqua\", label=\"Customers\")\n",
    "plt.plot(data_blue['id'], data_blue['bank_id'], color=\"blue\", label=\"Accounts\")\n",
    "plt.plot(data_red['id'], data_red['bank_id'], color=\"red\", label=\"Loanss\")\n",
    "\n",
    "plt.xlabel(\"Foreign Id\")\n",
    "plt.xlim((-0.5, 3.5))\n",
    "plt.ylabel(\"Id\")\n",
    "plt.legend(loc=\"upper left\")\n",
    "plt.title(\"Foreign Id VS Id\")\n",
    "plt.savefig(\"ID_curves.pdf\")\n",
    "plt.show()"
   ]
  },
  {
   "cell_type": "code",
   "execution_count": null,
   "id": "d7ea969c",
   "metadata": {},
   "outputs": [],
   "source": []
  }
 ],
 "metadata": {
  "kernelspec": {
   "display_name": "base",
   "language": "python",
   "name": "python3"
  },
  "language_info": {
   "codemirror_mode": {
    "name": "ipython",
    "version": 3
   },
   "file_extension": ".py",
   "mimetype": "text/x-python",
   "name": "python",
   "nbconvert_exporter": "python",
   "pygments_lexer": "ipython3",
   "version": "3.9.12"
  },
  "vscode": {
   "interpreter": {
    "hash": "be175dc15436e88f9e035e202fd2371f835444261fd48abea5192fbf0c4ca934"
   }
  }
 },
 "nbformat": 4,
 "nbformat_minor": 5
}
